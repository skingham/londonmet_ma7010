{
 "cells": [
  {
   "cell_type": "code",
   "execution_count": null,
   "id": "15789c05-75dc-4763-9985-94cac462185a",
   "metadata": {
    "tags": []
   },
   "outputs": [],
   "source": [
    "from typing import Tuple"
   ]
  },
  {
   "cell_type": "markdown",
   "id": "9a5326b0-5cc0-415b-83d7-112aede92d0a",
   "metadata": {},
   "source": [
    "# Chapter 10\n",
    "\n",
    "## Polynomial Addition\n",
    "\n",
    "`Answer = ZpPolyAdd(px, qx, p)`\n"
   ]
  },
  {
   "cell_type": "code",
   "execution_count": null,
   "id": "49c92fe0-bed3-4c7d-a87e-93dce67d88db",
   "metadata": {},
   "outputs": [],
   "source": [
    "def zp_poly_add(px: Tuple[float, ...], qx: Tuple[float, ...], p: float):\n",
    "    \"\"\" add two polynomials mod p \"\"\"\n",
    "    m = len(px)\n",
    "    n = len(qx)\n",
    "    ax = [((px[i] if i < m else 0) + (qx[i] if i < n else 0)) % p for i in range(0, max(m, n), 1)]\n",
    "    for i in range(len(ax) - 1, -1, -1):\n",
    "        if ax[i] != 0:\n",
    "            break\n",
    "    return  ax[:i+1]\n",
    "\n",
    "zp_poly_add((3, 8, 5, 0), (4, 6, 2, 0, 0, 0), 7)"
   ]
  },
  {
   "cell_type": "code",
   "execution_count": null,
   "id": "4b3595e7-0a01-4020-aaf5-131c912a02a7",
   "metadata": {},
   "outputs": [],
   "source": []
  }
 ],
 "metadata": {
  "kernelspec": {
   "display_name": "Python 3 (ipykernel)",
   "language": "python",
   "name": "python3"
  },
  "language_info": {
   "codemirror_mode": {
    "name": "ipython",
    "version": 3
   },
   "file_extension": ".py",
   "mimetype": "text/x-python",
   "name": "python",
   "nbconvert_exporter": "python",
   "pygments_lexer": "ipython3",
   "version": "3.11.5"
  }
 },
 "nbformat": 4,
 "nbformat_minor": 5
}
