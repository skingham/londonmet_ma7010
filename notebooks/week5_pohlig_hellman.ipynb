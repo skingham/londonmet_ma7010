{
 "cells": [
  {
   "cell_type": "code",
   "execution_count": 1,
   "metadata": {},
   "outputs": [],
   "source": [
    "import math\n",
    "import numpy as np\n",
    "import secrets\n",
    "import sys, os\n",
    "from typing import Optional, Set, Tuple, Generator\n",
    "\n",
    "sys.path.append(os.path.abspath(os.path.join(os.getcwd(), '..', 'python')))\n",
    "from qfl_crypto import number_theory "
   ]
  },
  {
   "cell_type": "markdown",
   "metadata": {},
   "source": [
    "## MA7010 – Week 5 Exercises\n",
    "\n",
    "Perform the following calculations in the cyclic group G with generator g as specified below.\n",
    "\n",
    "For a) – c) use the Baby Step Giant Step algorithm by hand calculation\n",
    "\n",
    "For d) and e) use both Baby Step Giant Step and Pohlig Hellman algorithms using hand calculations\n",
    "\n",
    "For f), g), h) and i) use just the Pohlig Hellman algorithm; use hand calculations and/or Maple as you see fit. "
   ]
  },
  {
   "cell_type": "markdown",
   "metadata": {},
   "source": [
    "__1.__\n",
    "\n",
    "    a)\tLet G be <x | x40 = 1> and let g = x7 . Find the logarithm of the element h = x28 \n",
    "\tb)\tLet G be <x | x45 = 1> and let g = x11 . Find the logarithm of the element h = x34 \n",
    "\tc)\tLet G be <x | x72 = 1> and let g = x13 . Find the logarithm of the element h = x49\n",
    "\td)\tLet G be <x | x125 = 1> and let g = x17 . Find the logarithm of the element h = x19\n",
    "    e)\tLet G be <x | x81 = 1> and let g = x13 . Find the logarithm of the element h = x8\n",
    "    f)\tLet G be <x | x243 = 1> and let g = x19 . Find the logarithm of the element h = x18\n",
    "    g)\tLet G be <x | x1352 = 1> and let g = x37 . Find the logarithm of the element h = x68\n",
    "    h)\tLet G be <x | x432 = 1> and let g = x73 . Find the logarithm of the element h = x89\n",
    "    i)\tLet G be <x | x1404= 1> and let g = x67 . Find the logarithm of the element h = x118"
   ]
  },
  {
   "cell_type": "markdown",
   "metadata": {},
   "source": [
    "__2.\tCheck your answers to a) – d) by performing modular exponentiation by hand.__\n",
    "\n",
    "\tCheck your answers to e) – i) by calculating gx in Maple"
   ]
  },
  {
   "cell_type": "code",
   "execution_count": null,
   "metadata": {},
   "outputs": [],
   "source": []
  },
  {
   "cell_type": "markdown",
   "metadata": {},
   "source": [
    "__3.\tExplore how the ChineseRemainder command in Maple evaluates the solution to the set of simultaneous linear congruences that you need to perform the Pohlig Hellman algorithm.__\n",
    "\n",
    "You need to  load the command using with(NumberTheory) to get access to this command."
   ]
  },
  {
   "cell_type": "code",
   "execution_count": null,
   "metadata": {},
   "outputs": [],
   "source": []
  },
  {
   "cell_type": "markdown",
   "metadata": {},
   "source": [
    "__4.\tWrite a routine to populate the values in the Pollard Rho Table when you wish to find the logarithm x such that ax = b mod n.__\n",
    "\n",
    "Test it by showing that it produces the correct answer for at least one of the values you have found in Q1. \n",
    "\n",
    "You may perform this question in any programming language you wish – refer to https://en.wikipedia.org/wiki/Pollard%27s_rho_algorithm_for_logarithms if you need help getting started. "
   ]
  },
  {
   "cell_type": "code",
   "execution_count": null,
   "metadata": {},
   "outputs": [],
   "source": []
  }
 ],
 "metadata": {
  "kernelspec": {
   "display_name": "py311_jupyterlab3",
   "language": "python",
   "name": "python3"
  },
  "language_info": {
   "codemirror_mode": {
    "name": "ipython",
    "version": 3
   },
   "file_extension": ".py",
   "mimetype": "text/x-python",
   "name": "python",
   "nbconvert_exporter": "python",
   "pygments_lexer": "ipython3",
   "version": "3.11.4"
  }
 },
 "nbformat": 4,
 "nbformat_minor": 2
}
