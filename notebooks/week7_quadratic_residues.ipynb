{
 "cells": [
  {
   "cell_type": "code",
   "execution_count": null,
   "id": "eb1690dc-3db6-4479-9a00-b3f94bf8567b",
   "metadata": {
    "tags": []
   },
   "outputs": [],
   "source": [
    "from plotly import tools\n",
    "from plotly.offline import download_plotlyjs, init_notebook_mode, plot, iplot\n",
    "import pandas as pd\n",
    "from math import floor\n",
    "import plotly.offline as py\n",
    "import plotly.express as px\n",
    "import plotly.graph_objects as go\n",
    "\n",
    "import math\n",
    "import numpy as np\n",
    "import secrets\n",
    "import sys, os\n",
    "from typing import Optional, Set, Tuple, Generator\n",
    "\n",
    "sys.path.append(os.path.abspath(os.path.join(os.getcwd(), '..', 'python')))\n",
    "from qfl_crypto import number_theory "
   ]
  },
  {
   "cell_type": "markdown",
   "id": "92c68bb2",
   "metadata": {},
   "source": [
    "# MA7010 – Number Theory for Cryptography\n",
    "\n",
    "## Week 7 Exercises (use Maple as appropriate)"
   ]
  },
  {
   "cell_type": "markdown",
   "id": "49a70742",
   "metadata": {},
   "source": [
    "Setup plotly"
   ]
  },
  {
   "cell_type": "code",
   "execution_count": null,
   "id": "43c86239-e171-4f41-9a37-12bf5ffcc1a3",
   "metadata": {
    "tags": []
   },
   "outputs": [],
   "source": [
    "# setup\n",
    "init_notebook_mode(connected=True)\n",
    "\n",
    "U_BOUND_COL = '#EF553B'   # red\n",
    "L_BOUND_COL = '#636efa'  # blue\n",
    "A_TRI_COL = '#df63fa' # purple\n",
    "T_BAND_COL = '#2ee831' # green\n",
    "B_TRI_COL = '#f8ba32' # ochre\n",
    "\n",
    "def show_qrt_plot(p: int, q: int):\n",
    "    \"\"\" \"\"\"\n",
    "    #\n",
    "    ps = np.array([x for x in range(1, floor((p - 1) / 2) + 1)])\n",
    "    qs = np.array([y for y in range(1, floor((q - 1) / 2) + 1)])\n",
    "    ns = -1 * ps\n",
    "    qP = np.array([q * x % p for x in ps])\n",
    "    qP = np.array([p - qp if qp > p / 2 else qp for qp in qP])\n",
    "    pQ = np.array([q * x % p for x in qs])\n",
    "    pQ = np.array([q - pq if pq > q / 2 else pq for pq in pQ])\n",
    "    \n",
    "    mu = [((x, y), q * x - p * y) for x in ps for y in qs if -p/2 < (q * x - p * y) < 0]\n",
    "    nu = [((y, x), q * x - p * y) for x in ps for y in qs if -q/2 < (p * y - q * x) < 0]\n",
    "    \n",
    "    def is_qrt_point(x, y):\n",
    "        return (q * x / p - q / (2 * p)) < y < (q * x / p + 0.5)\n",
    "    \n",
    "    qrt_df = pd.DataFrame({\n",
    "        'x': [x for x in ps for y in qs if is_qrt_point(x, y)],\n",
    "        'y': [y for x in ps for y in qs if is_qrt_point(x, y)],\n",
    "    })\n",
    "    \n",
    "    # build traces for each x\n",
    "    plot_xs = [x for x in range(floor((p - 1) / 2) + 2)]\n",
    "    plot_ys = [y for y in range(floor((q - 1) / 2) + 2)]\n",
    "    df = pd.DataFrame({\n",
    "        'xs': plot_xs,\n",
    "        'upper_bound': [q * x / p + 0.5 for x in plot_xs],\n",
    "        'lower_bound': [q * x / p - q / (2 * p) for x in plot_xs],\n",
    "    })\n",
    "    \n",
    "    traces = {}\n",
    "    # boundary lines\n",
    "    for col, colour in [('upper_bound', U_BOUND_COL), ('lower_bound', L_BOUND_COL)]:\n",
    "        traces['trace_' + col] = go.Scatter(\n",
    "            name=col, \n",
    "            mode='lines',\n",
    "            showlegend=True,\n",
    "            visible=True,\n",
    "            x=plot_xs,\n",
    "            y=df[col],\n",
    "            marker = dict(color = '#108008'),\n",
    "            line = dict(dash ='solid', shape='linear', width=2, color = colour),\n",
    "            fillcolor = '#0000FF')\n",
    "\n",
    "    # Markers for every (X,Y) into A, B or T\n",
    "    for col, colour, t in [\n",
    "        ('A', A_TRI_COL, lambda x, y: (q * x / p + 0.5) <= y), \n",
    "        ('T', T_BAND_COL, lambda x, y: (q * x / p - q / (2 * p)) < y < (q * x / p + 0.5)), \n",
    "        ('B', B_TRI_COL, lambda x, y: y <= (q * x / p - q / (2 * p)))]:\n",
    "        traces['trace_' + col] = go.Scatter(\n",
    "            name=col, \n",
    "            mode='markers',\n",
    "            showlegend=True,\n",
    "            visible=True,\n",
    "            x=[x for x in ps for y in qs if t(x, y) ],\n",
    "            y=[y for x in ps for y in qs if t(x, y) ],\n",
    "            marker = dict(symbol='circle', color=colour),\n",
    "            line = dict(dash ='solid', shape='linear', width=2, color = colour),\n",
    "            fillcolor = '#0000FF')\n",
    "\n",
    "    # convert data to form required by plotly\n",
    "    data = list(traces.values())\n",
    "\n",
    "    layout = go.Layout(\n",
    "        title=f'Quadratic Reciprocity Theorem: ({p}/{q}): plot (-{p}/2 < {q}x – {p}y < {q}/2)',\n",
    "        height=100 + 40 * len(plot_ys),\n",
    "        width=100 + 32 * len(plot_xs),\n",
    "        xaxis=go.layout.XAxis(\n",
    "            title=f'1 ≤ x ≤ {(p - 1) / 2}', \n",
    "            range=[0, floor((p - 1) / 2) + 1],\n",
    "            dtick=1),\n",
    "        yaxis=go.layout.YAxis(\n",
    "            title=f' 1 ≤ y ≤ {(q - 1) / 2}', \n",
    "            range=[0, floor((q - 1) / 2) + 1], \n",
    "            dtick=1),\n",
    "    )\n",
    "\n",
    "    # build figure\n",
    "    fig = go.Figure(data, layout)\n",
    "    iplot(fig)\n",
    "    print(mu)\n",
    "    print(nu)"
   ]
  },
  {
   "cell_type": "markdown",
   "id": "75913328-511c-4fe1-b33e-9b7ca2e9b94a",
   "metadata": {},
   "source": [
    "__1.\tThe proof of the Quadratic Residue Theorem includes a graphical element as described in the slides. Take the example where we look at (29 / 19) and construct two straight lines.__\n",
    "\n",
    "This gave two lines y =  11x/19 + 1/2 and y = 11x/19 – 11/38.\n",
    "\n",
    "Try plotting these lines on squared paper and count the points in regions A, B and T and show they correctly lead to a calculation of (29 / 19).\n",
    "\n",
    "Repeat the exercise for (31 / 43)"
   ]
  },
  {
   "cell_type": "code",
   "execution_count": null,
   "id": "35d1226a-0b31-4f4a-9bcb-dd39d8fd2fdb",
   "metadata": {
    "tags": []
   },
   "outputs": [],
   "source": [
    "\n",
    "show_qrt_plot(p=19, q=11)\n",
    "\n",
    "show_qrt_plot(p=29, q=19)\n",
    "\n",
    "show_qrt_plot(p=31, q=43)\n"
   ]
  },
  {
   "cell_type": "markdown",
   "id": "de558c7a",
   "metadata": {},
   "source": [
    "__2.\tCan you extend the argument used for (3 / p) to produce a characterisation of (5 / p)__\n",
    "\n",
    "(you need to look at the cases where p = 1 mod 4 and p = 3 mod 4 together with p = 1, 2, 3, 4 mod 5 to generate different rules."
   ]
  },
  {
   "cell_type": "markdown",
   "id": "b8cbe8c1-242c-48e2-a216-9116bdcd76e0",
   "metadata": {},
   "source": [
    "#### "
   ]
  },
  {
   "cell_type": "code",
   "execution_count": null,
   "id": "03eb7c7b-aaf8-40e0-9a96-bb1f7d53c04c",
   "metadata": {},
   "outputs": [],
   "source": []
  },
  {
   "cell_type": "markdown",
   "id": "b0dfa05c",
   "metadata": {},
   "source": [
    "__3.\tTry to decide if $F_4$ and $F_5$ are prime or composite using the method on slide 9__"
   ]
  },
  {
   "cell_type": "code",
   "execution_count": null,
   "id": "3d962db5",
   "metadata": {},
   "outputs": [],
   "source": []
  },
  {
   "cell_type": "markdown",
   "id": "3d3e3980",
   "metadata": {},
   "source": [
    "__4.\tLook at Jones and Jones p132 (on weblearn) to complete the proof of the theorem on Fermat primes.__"
   ]
  },
  {
   "cell_type": "markdown",
   "id": "5db5fd0a",
   "metadata": {},
   "source": []
  },
  {
   "cell_type": "markdown",
   "id": "a4dd3952",
   "metadata": {},
   "source": [
    "__5.\tUse the properties of the Jacobi symbol to calculate__\n",
    "\n",
    "    i)  (91 / 143)\n",
    "    ii)\t    (1313 / 1649)\n",
    "    iii)    (646 / 1207)"
   ]
  },
  {
   "cell_type": "markdown",
   "id": "f809e36d",
   "metadata": {},
   "source": []
  },
  {
   "cell_type": "markdown",
   "id": "cd2d00c2",
   "metadata": {},
   "source": [
    "__6.\tApply the test described in slide 15 to determine that the following are composite.__\n",
    "\n",
    "Choose a at random in the range 10 ≤ a ≤ 20 until you find an a such that $\\left(\\frac{a}{n} \\right) \\equiv a^{(n-1)/2}  \\bmod(n)$. \n",
    "\n",
    "Use the binary expansion method to perform your modular exponentiation (so in i) $a^{71} = a^{64} * a^4 *a^2 * a^1$\n",
    "\n",
    "\ti)\tn = 143\t\n",
    "    ii)\tn = 161\t\n",
    "    iii)\tn = 8633"
   ]
  },
  {
   "cell_type": "markdown",
   "id": "7d87ff10",
   "metadata": {},
   "source": []
  }
 ],
 "metadata": {
  "kernelspec": {
   "display_name": "Python 3 (ipykernel)",
   "language": "python",
   "name": "python3"
  },
  "language_info": {
   "codemirror_mode": {
    "name": "ipython",
    "version": 3
   },
   "file_extension": ".py",
   "mimetype": "text/x-python",
   "name": "python",
   "nbconvert_exporter": "python",
   "pygments_lexer": "ipython3",
   "version": "3.11.4"
  }
 },
 "nbformat": 4,
 "nbformat_minor": 5
}
