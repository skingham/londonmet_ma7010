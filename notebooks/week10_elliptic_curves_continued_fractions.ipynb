{
 "cells": [
  {
   "cell_type": "code",
   "execution_count": null,
   "metadata": {},
   "outputs": [],
   "source": [
    "import numpy as np\n",
    "import sys, os\n",
    "from itertools import combinations\n",
    "from typing import Optional\n",
    "from importlib import reload\n",
    "\n",
    "sys.path.append(os.path.abspath(os.path.join(os.getcwd(), '..', 'python')))\n",
    "from qfl_crypto import number_theory "
   ]
  },
  {
   "cell_type": "markdown",
   "metadata": {},
   "source": [
    "## MA7010 – Week 10 Exercises on Elliptic Curves and Continued Fractions\n",
    "1. \n",
    "\n",
    "a)\tSuppose we wish to factorise n = 143 using the elliptic curve y2 = x3 + 3x – 3 and the starting point P = (1, 1).\n",
    "\n",
    "Try to find the coordinates of 2P and 4P by hand calculation (you can use Maple to find modular inverses if you wish).\n",
    "\n",
    "Show that the calculation of 8P fails to produce an answer; explain why this has happened and how it leads to a factorisation of n.  "
   ]
  },
  {
   "cell_type": "code",
   "execution_count": null,
   "metadata": {
    "vscode": {
     "languageId": "plaintext"
    }
   },
   "outputs": [],
   "source": []
  },
  {
   "cell_type": "markdown",
   "metadata": {},
   "source": [
    "b)\tRepeat a) when n = 221 and the curve is $y^2 = x^3 + 7x – 7$"
   ]
  },
  {
   "cell_type": "code",
   "execution_count": null,
   "metadata": {
    "vscode": {
     "languageId": "plaintext"
    }
   },
   "outputs": [],
   "source": []
  },
  {
   "cell_type": "markdown",
   "metadata": {},
   "source": [
    "__2.\tHere we try to factorise n = 667 using the elliptic curve $y^2 = x^3 + 5x – 5$ and the starting point P = (1, 1).__\n",
    "\n",
    "We aim to calculate 120P which is a good choice as 120 = 5!\n",
    "\n",
    "a) Find the coordinates of P, 2P, 4P, 8P, 16P, 32P, 64P."
   ]
  },
  {
   "cell_type": "markdown",
   "metadata": {},
   "source": [
    "b) Given that 120P = 8P + 16P + 32P + 64P attempt to calculate 120P using the values you found in a). "
   ]
  },
  {
   "cell_type": "markdown",
   "metadata": {},
   "source": [
    "c) When the calculation fails use the coordinates to find a factor of n = 667."
   ]
  },
  {
   "cell_type": "code",
   "execution_count": null,
   "metadata": {
    "vscode": {
     "languageId": "plaintext"
    }
   },
   "outputs": [],
   "source": []
  },
  {
   "cell_type": "markdown",
   "metadata": {},
   "source": [
    "__3. Suppose we wish to factorise n = 455839 using the elliptic curve method.__\n",
    "\n",
    "We use the elliptic curve $y^2 = x^3 + 5x - 5$ and the starting point P = (1, 1).\n",
    "\n",
    "i) Use the elliptic curve procedures on Maple to calculate 2iP for i from 1 to 14 {2P, 4P, 8P, 16P, 32P, 64P, 128P, 256P, 512P, 1024P, 2048P, 4096P, 8192P, 16384P}.\n",
    "\n",
    "| I | Value | x coordinate | y coordinate |\n",
    "|---|-------|--------------|--------------|\n",
    "| 1 | 2P    |              |              |\n",
    "| 2 | 4P    |              |              |\n",
    "|   |       |              |              |\n",
    "|---|-------|--------------|--------------|\n"
   ]
  },
  {
   "cell_type": "code",
   "execution_count": null,
   "metadata": {
    "vscode": {
     "languageId": "plaintext"
    }
   },
   "outputs": [],
   "source": []
  },
  {
   "cell_type": "markdown",
   "metadata": {},
   "source": [
    "ii) Show that 8! = 40320 = 1001110110000000 in binary form and hence explain why 8!P = 128P + 256P + 1024P + 2048P + 4096P + 16384P"
   ]
  },
  {
   "cell_type": "code",
   "execution_count": null,
   "metadata": {
    "vscode": {
     "languageId": "plaintext"
    }
   },
   "outputs": [],
   "source": []
  },
  {
   "cell_type": "markdown",
   "metadata": {},
   "source": [
    "iii) Use the Maple procedures to find 128P + 256P"
   ]
  },
  {
   "cell_type": "code",
   "execution_count": null,
   "metadata": {
    "vscode": {
     "languageId": "plaintext"
    }
   },
   "outputs": [],
   "source": []
  },
  {
   "cell_type": "markdown",
   "metadata": {},
   "source": [
    "iv) What goes wrong when you try to find 512P + 2048P?\n",
    "\n",
    "Use the information in iv) to find a factor of n using Euclid’s Algorithm."
   ]
  },
  {
   "cell_type": "markdown",
   "metadata": {},
   "source": []
  },
  {
   "cell_type": "markdown",
   "metadata": {},
   "source": [
    "__4.\tThe following irrational numbers have continued fractions expansion that are periodic.__\n",
    "\n",
    "Attempt to find all terms until a repetition using:\n",
    "\ti)\texact algebra (slides 3-5)\n",
    "    ii)\tthe recursive method of slide 6\n",
    "\n",
    "a) 5\t\tb)       6\tc)\t11\t\td)\t(1 + )/2"
   ]
  },
  {
   "cell_type": "code",
   "execution_count": null,
   "metadata": {
    "vscode": {
     "languageId": "plaintext"
    }
   },
   "outputs": [],
   "source": []
  },
  {
   "cell_type": "markdown",
   "metadata": {},
   "source": [
    "__5.\tFor each of the numbers N below find a factorisation using the following steps:__\n",
    "\n",
    "i)\tFind the first 10 convergents using the command \n",
    "\n",
    "\t`for i from 0 to 9 do Convergent(ContinuedFraction(sqrt(N)),i) ;od;`\n",
    "\n",
    "ii)\tUse ifactor to find the prime decomposition of the numerator $A_i$ of the ith convergent.\n",
    "\n",
    "iii)\tRetain rows such that the numerator factorises entirely using a factor base B of small primes.\n",
    "\n",
    "iv)\tFind a sum of rows where each column adds up to an even number and hence find a congruence equation $u^2 = v^2 \\bmod N$.\n",
    "\n",
    "v)\tHence use Euclid’s algorithm to find a common factor of u-v and N.\n",
    "\n",
    "    a)  N = 3053\n",
    "    b)  N = 16867\n",
    "    c)\tN = 19177\n",
    "\n",
    "Find the first 5 convergents of each N by hand using the recursive formulae for $A_i$ and $B_i$"
   ]
  },
  {
   "cell_type": "markdown",
   "metadata": {},
   "source": []
  }
 ],
 "metadata": {
  "language_info": {
   "name": "python"
  }
 },
 "nbformat": 4,
 "nbformat_minor": 2
}
