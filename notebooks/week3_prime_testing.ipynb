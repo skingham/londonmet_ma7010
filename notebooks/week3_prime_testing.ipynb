{
 "cells": [
  {
   "cell_type": "markdown",
   "id": "782610c5-7632-48dc-861a-7f62ddb041df",
   "metadata": {},
   "source": []
  },
  {
   "cell_type": "code",
   "execution_count": 96,
   "id": "9cec9cbf-a2ae-4c75-b65b-d1e13086f05c",
   "metadata": {
    "tags": []
   },
   "outputs": [
    {
     "data": {
      "text/plain": [
       "(-1, 32768, 65536)"
      ]
     },
     "execution_count": 96,
     "metadata": {},
     "output_type": "execute_result"
    }
   ],
   "source": [
    "32767 - 2 ** 15, 2 ** 15, 2 ** 16"
   ]
  },
  {
   "cell_type": "markdown",
   "id": "45b7589b-e85a-44ff-bc93-0d16034edae1",
   "metadata": {},
   "source": [
    "## Stanoyevich Chapter 6"
   ]
  },
  {
   "cell_type": "code",
   "execution_count": 122,
   "id": "e47def51-48f4-4b00-a547-ce9ce278245f",
   "metadata": {
    "tags": []
   },
   "outputs": [
    {
     "name": "stdout",
     "output_type": "stream",
     "text": [
      "0111111000001100 32268\n",
      "1000000111110011 -32269\n",
      "0000000111110011 499\n",
      "1111111000001100 -500\n",
      "\n",
      "0111111111111111 32767\n",
      "1111111111111111 -1\n",
      "1000000000000000 -32768\n",
      "0000000000000000 0\n"
     ]
    }
   ],
   "source": [
    "# 33: algo to take two integers, a & n, with 2^{n-1} < a < 2^{n+1} and product two's-complement of a\n",
    "\n",
    "def decode_twos_complement(s: str) -> int:\n",
    "    n = len(s)\n",
    "    assert all([c in ['0', '1'] for c in s])\n",
    "    a = 0\n",
    "    for i in range(n-2, -1, -1):\n",
    "        a += 2 ** i if s[n - i - 1] == '1' else 0\n",
    "    a = a if s[0] == '0' else -2 ** 15 + a \n",
    "    return a\n",
    "    \n",
    "def encode_twos_complement(a:int, n:int) -> str:\n",
    "    assert -2 ** (n-1) <= a and a <= 2 ** (n-1)\n",
    "    s = ['0' if a >= 0 else '1', ] \n",
    "    r = a % 2 ** (n - 1)\n",
    "    for i in range(n-2, -1, -1):\n",
    "        b = 2 ** i\n",
    "        s.append('1' if r >= b else '0')\n",
    "        r = r - (b if r >= b else 0)\n",
    "    s = ''.join(s)\n",
    "    return s\n",
    "\n",
    "print(encode_twos_complement(32268, 16), decode_twos_complement(encode_twos_complement(32268, 16)))\n",
    "print(encode_twos_complement(-32269, 16), decode_twos_complement(encode_twos_complement(-32269, 16)))\n",
    "print(encode_twos_complement(2 ** 15 - 32269, 16), decode_twos_complement(encode_twos_complement(2 ** 15 - 32269, 16)))\n",
    "print(encode_twos_complement(- 2 ** 15 + 32268, 16), decode_twos_complement(encode_twos_complement(- 2 ** 15 + 32268, 16)))\n",
    "print()\n",
    "\n",
    "print(encode_twos_complement(2 ** 15 - 1, 16), decode_twos_complement(encode_twos_complement(2 ** 15 - 1, 16)))\n",
    "print(encode_twos_complement(-1, 16), decode_twos_complement(encode_twos_complement(-1, 16)))\n",
    "print(encode_twos_complement(-2 ** 15, 16), decode_twos_complement(encode_twos_complement(-2 ** 15, 16)))\n",
    "print(encode_twos_complement(0, 16), decode_twos_complement(encode_twos_complement(0, 16)))"
   ]
  },
  {
   "cell_type": "markdown",
   "id": "0802f772-0871-4190-81d3-67b1b7aec942",
   "metadata": {},
   "source": [
    "## "
   ]
  }
 ],
 "metadata": {
  "kernelspec": {
   "display_name": "Python 3 (ipykernel)",
   "language": "python",
   "name": "python3"
  },
  "language_info": {
   "codemirror_mode": {
    "name": "ipython",
    "version": 3
   },
   "file_extension": ".py",
   "mimetype": "text/x-python",
   "name": "python",
   "nbconvert_exporter": "python",
   "pygments_lexer": "ipython3",
   "version": "3.11.5"
  }
 },
 "nbformat": 4,
 "nbformat_minor": 5
}
