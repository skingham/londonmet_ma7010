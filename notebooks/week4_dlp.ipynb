{
 "cells": [
  {
   "cell_type": "markdown",
   "id": "a2b4234b-8b49-43d8-ac73-0c664e6b3346",
   "metadata": {},
   "source": [
    "# Discrete Logarithm Problem"
   ]
  },
  {
   "cell_type": "code",
   "execution_count": null,
   "id": "5a8bdef0-c362-4cd3-9a4d-47c81cd32e12",
   "metadata": {
    "tags": []
   },
   "outputs": [],
   "source": [
    "import math\n",
    "import numpy as np\n",
    "import secrets\n",
    "import sys, os\n",
    "from typing import Optional, Set, Tuple, Generator\n",
    "\n",
    "sys.path.append(os.path.abspath(os.path.join(os.getcwd(), '..', 'python')))\n",
    "from qfl_crypto import number_theory "
   ]
  },
  {
   "cell_type": "markdown",
   "id": "f50ad320",
   "metadata": {},
   "source": [
    "## MA7010 -  Week 4 Questions\n",
    "\n",
    "Questions should be done by hand/using a calculator except those in bold for which Maple is recommended. Early questions cover some material also delivered in MA7009.\n",
    "\n",
    "__1.\tConsider the number p = 17__\n",
    "\n",
    "a)\tShow that a = 6 is a primitive root mod 17."
   ]
  },
  {
   "cell_type": "code",
   "execution_count": null,
   "id": "b8398d19",
   "metadata": {},
   "outputs": [],
   "source": []
  },
  {
   "cell_type": "markdown",
   "id": "4f53b0f7",
   "metadata": {},
   "source": [
    "b)\tHow many other primitive roots are there mod 17?  Once you have found one primitive root a then the Order of Powers formula (Proposition 8.3 from Stanoyevitch) means ai is also a primitive root if $gcd(I,16) = 1$.  "
   ]
  },
  {
   "cell_type": "code",
   "execution_count": null,
   "id": "a579a71a",
   "metadata": {},
   "outputs": [],
   "source": []
  },
  {
   "cell_type": "markdown",
   "id": "f08fb9f1",
   "metadata": {},
   "source": [
    "c)\tShow that 6 generates a cyclic group when you take the operation as multiplication mod 17."
   ]
  },
  {
   "cell_type": "code",
   "execution_count": null,
   "id": "9d38633f",
   "metadata": {},
   "outputs": [],
   "source": [
    "len(number_theory.cyclic_group(6, 17, lambda a, b: a * b))\n",
    "n = 17\n",
    "print(number_theory.co_primes(n))\n",
    "a_s = number_theory.co_primes(n)\n",
    "g = 6\n",
    "set([(k, a, g ** k % n) for a in a_s  for k in range(1, n) if g ** k % n == a]), len(set([k for k in range(1, n) for a in a_s  if g ** k % n == a ])), len(a_s)"
   ]
  },
  {
   "cell_type": "code",
   "execution_count": null,
   "id": "5ed3c3d1",
   "metadata": {},
   "outputs": [],
   "source": [
    "p = 17\n",
    "a = 6\n",
    "print([(k, a ** k % p)\n",
    "       for k in range(1, p)])\n",
    "\n",
    "print([(a, number_theory.order(a, p)) for a in range(1, p)])\n",
    "print(number_theory.order_of_powers(a, p))\n",
    "print(number_theory.primitive_roots(p))\n",
    "len(number_theory.cyclic_group(a, p, lambda a, b: a * b)), number_theory.cyclic_group(a, p, lambda a, b: a * b)\n",
    "#set([(a ** i % p) for i in range(1, p) if gcd(i, p-1) == 1])"
   ]
  },
  {
   "cell_type": "markdown",
   "id": "5c532a74",
   "metadata": {},
   "source": [
    "__2.\tComplete the table of logarithms modulo for p = 17 with respect to the primitive root 6 and for one other primitive element that you found in b) above.__"
   ]
  },
  {
   "cell_type": "code",
   "execution_count": null,
   "id": "2f6e5f50",
   "metadata": {},
   "outputs": [],
   "source": []
  },
  {
   "cell_type": "markdown",
   "id": "6ca8d23a",
   "metadata": {},
   "source": [
    "__3.\tConsider the number m = 18.__\n",
    "\n",
    "a)\tFind φ(m) using only the definition and confirm your answer using the decomposition of m into primes. "
   ]
  },
  {
   "cell_type": "code",
   "execution_count": null,
   "id": "f271c236",
   "metadata": {},
   "outputs": [],
   "source": [
    "p = 18\n",
    "a = 5\n",
    "print([(k, a ** k % p)\n",
    "       for k in range(1, p)])\n",
    "\n",
    "print([(a, number_theory.order(a, p)) for a in range(1, p)])\n",
    "print(number_theory.order_of_powers(a, p))\n",
    "print(number_theory.primitive_roots(p))\n",
    "len(number_theory.cyclic_group(a, p, lambda a, b: a * b)), number_theory.cyclic_group(a, p, lambda a, b: a * b)\n",
    "#set([(a ** i % p) for i in range(1, p) if gcd(i, p-1) == 1])"
   ]
  },
  {
   "cell_type": "markdown",
   "id": "ea628529",
   "metadata": {},
   "source": [
    "b)    \tHow many primitive roots are there for m?"
   ]
  },
  {
   "cell_type": "code",
   "execution_count": null,
   "id": "2b497052",
   "metadata": {},
   "outputs": [],
   "source": []
  },
  {
   "cell_type": "markdown",
   "id": "928abd30",
   "metadata": {},
   "source": [
    "c)\tHow big is the cyclic group that you can generate using a primitive element modulo 18 where the operation is multiplication modulo 18?"
   ]
  },
  {
   "cell_type": "code",
   "execution_count": null,
   "id": "2c8a08f2",
   "metadata": {},
   "outputs": [],
   "source": []
  },
  {
   "cell_type": "markdown",
   "id": "5b3ce9f5",
   "metadata": {},
   "source": [
    "d)\tWhat happens when you try to construct a table of logarithms modulo 18 using one of the primitive roots you found in a)."
   ]
  },
  {
   "cell_type": "code",
   "execution_count": null,
   "id": "799cc90e",
   "metadata": {},
   "outputs": [],
   "source": []
  },
  {
   "cell_type": "markdown",
   "id": "9925f9d9",
   "metadata": {},
   "source": [
    "__4.\tFind all numbers k < 100 that have no primitive roots; can you see any patterns? Can you prove anything you observe? __"
   ]
  },
  {
   "cell_type": "code",
   "execution_count": null,
   "id": "3910a9d0",
   "metadata": {},
   "outputs": [],
   "source": []
  },
  {
   "cell_type": "markdown",
   "id": "e97d210d",
   "metadata": {},
   "source": [
    "__5.\tUse the Baby Step Giant Step algorithm to find the following:__\n",
    "\n",
    "    a)\tThe log18 (25) mod 37\n",
    "    b)\tThe log5 (25) mod 37\n",
    "    c)  The log5 (19) mod 43\n",
    "    d)\tThe log20 (19) mod 43\n",
    "    e)\tThe log39 (47) mod 113\n",
    "    f)\tThe log15 (67) mod 97"
   ]
  },
  {
   "cell_type": "code",
   "execution_count": null,
   "id": "4d15281a",
   "metadata": {},
   "outputs": [],
   "source": []
  },
  {
   "cell_type": "code",
   "execution_count": null,
   "id": "1bc94dcd",
   "metadata": {},
   "outputs": [],
   "source": []
  },
  {
   "cell_type": "markdown",
   "id": "0f64e750",
   "metadata": {},
   "source": [
    "Using the fact that 18 = 57 mod 37 could you find the answer to b) using just this fact and your answer to a)? In general, therefore, how is your answer to b) related to a) and your answer to c) related to d) (if at all!)? Take other values in Maple to help you see patterns if necessary. "
   ]
  },
  {
   "cell_type": "markdown",
   "id": "0a9f5d8a",
   "metadata": {},
   "source": [
    "__6.\tTry to explain in your own words by Baby Step Giant Step is a more efficient algorithm than just searching for powers. Think about the different steps and how much work they involve.__"
   ]
  },
  {
   "cell_type": "markdown",
   "id": "824e9182",
   "metadata": {},
   "source": [
    "__7. \tHow would making m bigger or smaller than ceiling($\\sqrt(n)$) affect the running of the algorithm – try amending the Maple procedure if it helps.__"
   ]
  },
  {
   "cell_type": "code",
   "execution_count": null,
   "id": "2bb7a2cf-02f6-483b-add9-2cf5c7fa0134",
   "metadata": {
    "tags": []
   },
   "outputs": [],
   "source": [
    "#;number_theory.order(4, 7\n",
    "n = 601 # 334 # 25 # 334 # 109 # \n",
    "ord_n = number_theory.totient(n)\n",
    "ds = number_theory.divisors(ord_n)\n",
    "\n",
    "print(ds)\n",
    "#print([d - d_1 for d, d_1 in zip(ds, [0,] + ds[:-1])])\n",
    "#print([(k, 7 ** k, (7 ** k) % n, 7 ** int(k), (7 ** int(k)) % n) for k in ds])\n",
    "#[1, 2, 3, 4, 5, 6, 8, 10, 12, 15, 20, 24, 25, 30, 40, 50, 60, 75, 100, 120, 150, 200, 300, 600]\n",
    "print(number_theory.order(2, n), number_theory.is_order_n(2, n))\n",
    "print(number_theory.order(7, n), number_theory.is_order_n(7, n))\n",
    "print(3, 3 ** 600 % n,  number_theory.order(3, n))\n",
    "print(number_theory.is_order_n(3, n))\n",
    "print(7,  7 ** 600 % n,  number_theory.order(7, n))\n",
    "print(number_theory.is_order_n(7, n))\n",
    "#for a in co_primes(n):\n",
    "#    if number_theory.order(a, n) == ord_n:\n",
    "#        print(a)\n",
    "# [7, 11, 14, 19, 22, 29, 33, 34, 35, 38, 41, 42, 43, 44, 53, 55, 56, 58, 66, 68, 70, 73, 82, 84, 86, 88, 91, 93, 95, 103, 107, 110, 112, 114, 127, 136, 137, 142, 143, 145, 146, 152, 153, 155, 159, 161, 164, 168, 172, 173, 174, 177, 182, 186, 189, 190, 206, 212, 220, 224, 228, 232, 247, 249, 253, 254, 255, 257, 264, 265, 272, 274, 280, 283, 284, 286, 290, 291, 292, 297, 304, 309, 310, 311, 315, 317, 318, 321, 327, 329, 336, 337, 344, 346, 347, 348, 352, 354, 369, 373, 377, 381, 389, 395, 411, 412, 415, 419, 424, 427, 428, 429, 433, 437, 440, 442, 446, 448, 449, 455, 456, 458, 459, 464, 465, 474, 487, 489, 491, 494, 498, 506, 508, 510, 513, 515, 517, 519, 528, 531, 533, 535, 543, 545, 546, 548, 557, 558, 559, 560, 563, 566, 567, 568, 572, 579, 582, 587, 590, 594]\n",
    "#\n",
    "print(number_theory.primitive_roots(n))\n",
    "print(number_theory.order_of_powers(7, n))"
   ]
  },
  {
   "cell_type": "code",
   "execution_count": null,
   "id": "8a196ac9-0cd6-4fd3-963c-8692b2ec5872",
   "metadata": {
    "tags": []
   },
   "outputs": [],
   "source": [
    "n = 601\n",
    "ord_n = number_theory.totient(n)\n",
    "fs = [f[0] for f in number_theory.ifactors(ord_n)] + [ord_n, ]\n",
    "\n",
    "print(sorted(set(number_theory.order(a, n) for a in range(1, n)))) #, 2 ** ord_n % n\n",
    "print([f for f in number_theory.ifactors(ord_n)])\n",
    "\n",
    "a = 10\n",
    "print([(a, number_theory.order(2, n)) + tuple(pow(a, k, n) for k in fs) ]) \n",
    "print((a, ) + tuple(k for k in range(1, ord_n + 1) if a ** k % n == 1)) \n",
    "\n",
    "print(sorted(number_theory.co_primes(number_theory.totient(n))))\n",
    "print(number_theory.primitive_roots(n))"
   ]
  },
  {
   "cell_type": "code",
   "execution_count": null,
   "id": "76a2c607-951d-4dfb-9ab2-14b8a69b9a6f",
   "metadata": {
    "tags": []
   },
   "outputs": [],
   "source": []
  },
  {
   "cell_type": "code",
   "execution_count": null,
   "id": "01559b08-b57b-4425-b0a8-bec2adfecc97",
   "metadata": {},
   "outputs": [],
   "source": [
    "print(number_theory.primitive_roots(25))\n"
   ]
  },
  {
   "cell_type": "code",
   "execution_count": null,
   "id": "2705ab9b-9c0f-4fc3-a4fa-acfb13ad1f3c",
   "metadata": {
    "tags": []
   },
   "outputs": [],
   "source": [
    "f_p = np.array([1, 2, 3, 0])\n",
    "(f_p + 1)[0-3:], (f_p + 1)[1-3:], (f_p + 1)[2-3:]"
   ]
  }
 ],
 "metadata": {
  "kernelspec": {
   "display_name": "Python 3 (ipykernel)",
   "language": "python",
   "name": "python3"
  },
  "language_info": {
   "codemirror_mode": {
    "name": "ipython",
    "version": 3
   },
   "file_extension": ".py",
   "mimetype": "text/x-python",
   "name": "python",
   "nbconvert_exporter": "python",
   "pygments_lexer": "ipython3",
   "version": "3.11.4"
  }
 },
 "nbformat": 4,
 "nbformat_minor": 5
}
