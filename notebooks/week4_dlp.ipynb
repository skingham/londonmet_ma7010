{
 "cells": [
  {
   "cell_type": "markdown",
   "id": "a2b4234b-8b49-43d8-ac73-0c664e6b3346",
   "metadata": {},
   "source": [
    "# Discrete Logarithm Problem"
   ]
  },
  {
   "cell_type": "code",
   "execution_count": 48,
   "id": "5a8bdef0-c362-4cd3-9a4d-47c81cd32e12",
   "metadata": {
    "tags": []
   },
   "outputs": [],
   "source": [
    "import dotenv\n",
    "import numpy as np\n",
    "from typing import List, Tuple"
   ]
  },
  {
   "cell_type": "code",
   "execution_count": 77,
   "id": "d31722d6-b539-43de-8395-b80c18ad15bf",
   "metadata": {
    "tags": []
   },
   "outputs": [],
   "source": [
    "\n",
    "def gcd(a: int, b: int) -> int:\n",
    "    \"\"\" Find GCD by recursing on a mod b \"\"\"\n",
    "    if(b == 0):\n",
    "        return abs(a)\n",
    "    else:\n",
    "        return gcd(b, a % b)\n",
    "\n",
    "def primes_below(n: int):\n",
    "    \"\"\" \"\"\"\n",
    "    is_prime = [True, ] * (n + 1)\n",
    "    for p in range(2, n):\n",
    "        if is_prime[p]:\n",
    "            for i in range(p * p, n + 1, p):\n",
    "                is_prime[i] = False\n",
    "            yield p\n",
    "    return\n",
    "\n",
    "def next_prime(n: int):\n",
    "    \"\"\" \"\"\"\n",
    "    for p in primes_below((int(np.ceil(np.sqrt(n))) + 1) ** 2):\n",
    "        if p > n:\n",
    "            break\n",
    "    return p\n",
    "\n",
    "def is_prime(n: int) -> bool:\n",
    "    \"\"\" check if is a prime by \"\"\"\n",
    "    for p in primes_below((int(np.ceil(np.sqrt(n))) + 1) ** 2):\n",
    "        if p == n:\n",
    "            return True\n",
    "    return False\n",
    "\n",
    "def ifactors(n: int):\n",
    "    \"\"\"   \"\"\"\n",
    "    half_n = n // 2\n",
    "    is_prime = True\n",
    "    for p in primes_below(half_n + 1):\n",
    "        if p > half_n:\n",
    "            break\n",
    "        if n % p == 0:\n",
    "            is_prime = False\n",
    "            k = 1\n",
    "            m = n // p\n",
    "            while m % p == 0:\n",
    "                m = m // p\n",
    "                k += 1\n",
    "            yield (p, k)\n",
    "            \n",
    "    if is_prime:\n",
    "        yield (n, 1)\n",
    "                \n",
    "    return\n",
    "\n",
    "def divisors(n: int) -> Tuple[int, ...]:\n",
    "    \"\"\" \"\"\"\n",
    "    factors = tuple(ifactors(n))\n",
    "    factor_primes = np.array([f[0] for f in factors] + [0,])\n",
    "    # add one to every power, as we generate powers as (i mod factor_powers[j])\n",
    "    factor_powers = np.array([f[1] for f in factors] + [0,]) + 1\n",
    "    \n",
    "    factors_count = len(factors)\n",
    "    divisors_count = np.prod(factor_powers)\n",
    "\n",
    "    # calc product of array of each prime factor to some power, varying from 0 to the max given from ifactors fn\n",
    "    ds = sorted(int(np.prod([factor_primes[j] ** (i // np.prod(factor_powers[j - factors_count:]) % factor_powers[j])\n",
    "                             for j in range(factors_count)]))\n",
    "                for i in range(divisors_count))\n",
    "    return tuple(ds)\n",
    "\n",
    "def co_primes(n: int):\n",
    "    \"\"\" \"\"\"\n",
    "    return set([a for a in range(1, n) if gcd(a, n) == 1])\n",
    "\n",
    "def totient(n: int) -> int:\n",
    "    \"\"\" Euler's phi function is the number of values less than a that are co-prime with n \"\"\"\n",
    "    return len(co_primes(n))\n",
    "\n",
    "def order_of_powers(g: int, n: int) -> List[int]:\n",
    "    \"\"\" g ^ k % n for k being co-prime with phi(n) \"\"\"\n",
    "\n",
    "    # order_of_powers = sorted(set([g ** k % n for k in co_primes(totient(n))]))\n",
    "    # keep all calcs mod n to remove overflow errors\n",
    "    ks = co_primes(totient(n))\n",
    "    order_of_powers = set()\n",
    "    g_k = 1\n",
    "    for k in range(1, n):\n",
    "        g_k = g_k * g  % n\n",
    "        if k in ks:\n",
    "            order_of_powers.add(g_k)\n",
    "    return sorted(order_of_powers)\n",
    "\n",
    "def order(a: int, n: int):\n",
    "    \"\"\" Multiplicative order of a mod n is the smallest k for which a^k mod n is 1 \"\"\"\n",
    "    if a > n or gcd(a, n) != 1:\n",
    "        return np.NaN\n",
    "\n",
    "    a_k = 1\n",
    "    for k in range(1, n):\n",
    "        a_k = a_k * a  % n\n",
    "        if a_k == 1:\n",
    "            return k\n",
    "    \n",
    "    return np.NaN\n",
    "\n",
    "def is_order_n(a: int, n: int):\n",
    "    \"\"\" Multiplicative order of a mod n is the smallest k for which a^k mod n is 1 \"\"\"\n",
    "    if a > n or gcd(a, n) != 1:\n",
    "        return np.NaN\n",
    "    \n",
    "    ord_n = totient(n)\n",
    "    # we can do better than all k < n by only looking at divisors of totient(n)\n",
    "    phi_n_divisors = divisors(ord_n)\n",
    "    for k in phi_n_divisors:\n",
    "        if a ** int(k) % n == 1:\n",
    "            return k == ord_n\n",
    "    \n",
    "    return np.NaN\n",
    "\n",
    "def cyclic_group(a, n, op):\n",
    "    group = set([(a ** k) % n for k in range(1, n)])\n",
    "    return group\n",
    "\n",
    "def primative_roots(n):\n",
    "    # g is a primitive root modulo n if for every integer a coprime to n, there is some integer k for which gk ≡ a (mod n)\n",
    "    \n",
    "    # check n is form 2, 4, p^s, 2p^s, where s is any positive integer and p is an odd prime\n",
    "    factors = [f for f in ifactors(n)]\n",
    "    if any((len(factors) < 1 or 2 < len(factors),  \n",
    "            (len(factors) == 2 and (factors[0][0] != 2 or factors[0][1] > 1)),\n",
    "            (len(factors) == 1 and factors[0][0] == 2 and factors[0][1] > 2),\n",
    "            (len(factors) == 1 and factors[0][0] < 2))):\n",
    "        return [] # Exception(\"No primitive roots exist\")\n",
    "    \n",
    "    # find smallest primative root\n",
    "    ord_n = totient(n)\n",
    "    g = None\n",
    "    for a in co_primes(n):\n",
    "        if order(a, n) == ord_n:\n",
    "            g = a\n",
    "            break\n",
    "    \n",
    "    # There are phi(phi(n)) roots: return all roots using factors co-prime with phi(n)\n",
    "    prime_roots = order_of_powers(g, n)\n",
    "     \n",
    "    assert len(prime_roots) == totient(ord_n)\n",
    "    assert all(g ** ord_n % n == 1 for g in prime_roots)\n",
    "    return prime_roots"
   ]
  },
  {
   "cell_type": "code",
   "execution_count": 78,
   "id": "2bb7a2cf-02f6-483b-add9-2cf5c7fa0134",
   "metadata": {
    "tags": []
   },
   "outputs": [
    {
     "name": "stdout",
     "output_type": "stream",
     "text": [
      "(1, 2, 3, 4, 5, 6, 8, 10, 12, 15, 20, 24, 25, 30, 40, 50, 60, 75, 100, 120, 150, 200, 300, 600)\n",
      "25 False\n",
      "600 True\n",
      "3 1 75\n",
      "False\n",
      "7 1 600\n",
      "True\n",
      "[7, 11, 14, 19, 22, 29, 33, 34, 35, 38, 41, 42, 43, 44, 53, 55, 56, 58, 66, 68, 70, 73, 82, 84, 86, 88, 91, 93, 95, 103, 107, 110, 112, 114, 127, 136, 137, 142, 143, 145, 146, 152, 153, 155, 159, 161, 164, 168, 172, 173, 174, 177, 182, 186, 189, 190, 206, 212, 220, 224, 228, 232, 247, 249, 253, 254, 255, 257, 264, 265, 272, 274, 280, 283, 284, 286, 290, 291, 292, 297, 304, 309, 310, 311, 315, 317, 318, 321, 327, 329, 336, 337, 344, 346, 347, 348, 352, 354, 369, 373, 377, 381, 389, 395, 411, 412, 415, 419, 424, 427, 428, 429, 433, 437, 440, 442, 446, 448, 449, 455, 456, 458, 459, 464, 465, 474, 487, 489, 491, 494, 498, 506, 508, 510, 513, 515, 517, 519, 528, 531, 533, 535, 543, 545, 546, 548, 557, 558, 559, 560, 563, 566, 567, 568, 572, 579, 582, 587, 590, 594]\n",
      "[7, 11, 14, 19, 22, 29, 33, 34, 35, 38, 41, 42, 43, 44, 53, 55, 56, 58, 66, 68, 70, 73, 82, 84, 86, 88, 91, 93, 95, 103, 107, 110, 112, 114, 127, 136, 137, 142, 143, 145, 146, 152, 153, 155, 159, 161, 164, 168, 172, 173, 174, 177, 182, 186, 189, 190, 206, 212, 220, 224, 228, 232, 247, 249, 253, 254, 255, 257, 264, 265, 272, 274, 280, 283, 284, 286, 290, 291, 292, 297, 304, 309, 310, 311, 315, 317, 318, 321, 327, 329, 336, 337, 344, 346, 347, 348, 352, 354, 369, 373, 377, 381, 389, 395, 411, 412, 415, 419, 424, 427, 428, 429, 433, 437, 440, 442, 446, 448, 449, 455, 456, 458, 459, 464, 465, 474, 487, 489, 491, 494, 498, 506, 508, 510, 513, 515, 517, 519, 528, 531, 533, 535, 543, 545, 546, 548, 557, 558, 559, 560, 563, 566, 567, 568, 572, 579, 582, 587, 590, 594]\n"
     ]
    }
   ],
   "source": [
    "#;order(4, 7\n",
    "n = 601 # 334 # 25 # 334 # 109 # \n",
    "ord_n = totient(n)\n",
    "ds = divisors(ord_n)\n",
    "\n",
    "print(ds)\n",
    "#print([d - d_1 for d, d_1 in zip(ds, [0,] + ds[:-1])])\n",
    "#print([(k, 7 ** k, (7 ** k) % n, 7 ** int(k), (7 ** int(k)) % n) for k in ds])\n",
    "#[1, 2, 3, 4, 5, 6, 8, 10, 12, 15, 20, 24, 25, 30, 40, 50, 60, 75, 100, 120, 150, 200, 300, 600]\n",
    "print(order(2, n), is_order_n(2, n))\n",
    "print(order(7, n), is_order_n(7, n))\n",
    "print(3, 3 ** 600 % n,  order(3, n))\n",
    "print(is_order_n(3, n))\n",
    "print(7,  7 ** 600 % n,  order(7, n))\n",
    "print(is_order_n(7, n))\n",
    "#for a in co_primes(n):\n",
    "#    if order(a, n) == ord_n:\n",
    "#        print(a)\n",
    "# [7, 11, 14, 19, 22, 29, 33, 34, 35, 38, 41, 42, 43, 44, 53, 55, 56, 58, 66, 68, 70, 73, 82, 84, 86, 88, 91, 93, 95, 103, 107, 110, 112, 114, 127, 136, 137, 142, 143, 145, 146, 152, 153, 155, 159, 161, 164, 168, 172, 173, 174, 177, 182, 186, 189, 190, 206, 212, 220, 224, 228, 232, 247, 249, 253, 254, 255, 257, 264, 265, 272, 274, 280, 283, 284, 286, 290, 291, 292, 297, 304, 309, 310, 311, 315, 317, 318, 321, 327, 329, 336, 337, 344, 346, 347, 348, 352, 354, 369, 373, 377, 381, 389, 395, 411, 412, 415, 419, 424, 427, 428, 429, 433, 437, 440, 442, 446, 448, 449, 455, 456, 458, 459, 464, 465, 474, 487, 489, 491, 494, 498, 506, 508, 510, 513, 515, 517, 519, 528, 531, 533, 535, 543, 545, 546, 548, 557, 558, 559, 560, 563, 566, 567, 568, 572, 579, 582, 587, 590, 594]\n",
    "#\n",
    "print(primative_roots(n))\n",
    "print(order_of_powers(7, n))"
   ]
  },
  {
   "cell_type": "code",
   "execution_count": 79,
   "id": "74e08a9f-8b7b-4f68-938f-b909f0f6998b",
   "metadata": {
    "tags": []
   },
   "outputs": [
    {
     "ename": "NameError",
     "evalue": "name 'factors' is not defined",
     "output_type": "error",
     "traceback": [
      "\u001b[0;31m---------------------------------------------------------------------------\u001b[0m",
      "\u001b[0;31mNameError\u001b[0m                                 Traceback (most recent call last)",
      "Cell \u001b[0;32mIn[79], line 2\u001b[0m\n\u001b[1;32m      1\u001b[0m \u001b[38;5;66;03m#factors = tuple(f for p, s in factors for f in (p, ) * s)\u001b[39;00m\n\u001b[0;32m----> 2\u001b[0m \u001b[38;5;28mprint\u001b[39m(\u001b[43mfactors\u001b[49m)\n\u001b[1;32m      3\u001b[0m f_primes \u001b[38;5;241m=\u001b[39m np\u001b[38;5;241m.\u001b[39marray([f[\u001b[38;5;241m0\u001b[39m] \u001b[38;5;28;01mfor\u001b[39;00m f \u001b[38;5;129;01min\u001b[39;00m factors] \u001b[38;5;241m+\u001b[39m [\u001b[38;5;241m0\u001b[39m,])\n\u001b[1;32m      4\u001b[0m f_powers \u001b[38;5;241m=\u001b[39m np\u001b[38;5;241m.\u001b[39marray([f[\u001b[38;5;241m1\u001b[39m] \u001b[38;5;28;01mfor\u001b[39;00m f \u001b[38;5;129;01min\u001b[39;00m factors] \u001b[38;5;241m+\u001b[39m [\u001b[38;5;241m0\u001b[39m,])\n",
      "\u001b[0;31mNameError\u001b[0m: name 'factors' is not defined"
     ]
    }
   ],
   "source": [
    "\n",
    "\n",
    "factors = tuple(f for p, s in factors for f in (p, ) * s)\n",
    "print(factors)\n",
    "f_primes = np.array([f[0] for f in factors] + [0,])\n",
    "f_powers = np.array([f[1] for f in factors] + [0,])\n",
    "f_div = tuple((np.prod((f_powers + 1)[j-len(factors):]), f_powers[j] + 1, f_primes[j]) for j in range(len(factors)))\n",
    "print( f_primes, f_powers, f_div)\n",
    "print( tuple((i , np.prod((f_powers + 1)[j-len(factors):]), f_powers[j] + 1, f_primes[j], (i // np.prod((f_powers + 1)[j-len(factors):])) % (f_powers[j] + 1)) for i in range(np.prod(f_powers + 1)) for j in range(0, len(factors))))\n",
    "print( tuple([i, j , f_primes[j] ** ((i // np.prod((f_powers + 1)[j-len(factors):])) % (f_powers[j] + 1)) ] for i in range(np.prod(f_powers + 1)) for j in range(0, len(factors)) ))\n",
    "print( tuple([(i, j , f_primes[j] ** ((i // np.prod((f_powers + 1)[j-len(factors):])) % (f_powers[j] + 1)))  for j in range(0, len(factors)) ] for i in range(np.prod(f_powers + 1)) ))\n",
    "print( sorted(np.prod([(f_primes[j] ** ((i // np.prod((f_powers + 1)[j-len(factors):])) % (f_powers[j] + 1)))  for j in range(0, len(factors)) ]) for i in range(np.prod(f_powers + 1)) ))\n",
    "\n",
    "#print( tuple(np.prod([f_primes[j] ** ((i // np.prod((f_powers + 1)[j-len(factors):])) % (f_powers[j] + 1)) ]) for i in range(np.prod(f_powers + 1)) for j in range(0, len(factors))))\n",
    "#print(tuple((tuple((i % (f_powers[i] + 1)) for j in range(len(factors)) for i in range(np.prod(np.array([f[1] + 1 for f in factors])))))\n",
    "#tuple(combinations(factors, 3))\n",
    "#tuple(i for i in range(product(f[1] + 1 for f in factors)))\n",
    "#print(tuple((i,) + tuple((i % (f[1] + 1)) for f in factors) for i in range(np.prod(np.array([f[1] + 1 for f in factors])))))\n",
    "#print(tuple(tuple(f[0] ** (i % (f[1] + 1)) for f in factors) for i in range(np.prod(np.array([f[1] + 1 for f in factors])))))\n",
    "#tuple(np.prod(np.array(tuple(f[0] ** (i % (f[1] + 1)) for f in factors))) for i in range(np.prod(np.array([f[1] + 1 for f in factors]))))"
   ]
  },
  {
   "cell_type": "code",
   "execution_count": 42,
   "id": "8a196ac9-0cd6-4fd3-963c-8692b2ec5872",
   "metadata": {
    "tags": []
   },
   "outputs": [
    {
     "name": "stdout",
     "output_type": "stream",
     "text": [
      "[1, 2, 3, 4, 5, 6, 8, 10, 12, 15, 20, 24, 25, 30, 40, 50, 60, 75, 100, 120, 150, 200, 300, 600]\n",
      "[(2, 3), (3, 1), (5, 2)]\n",
      "[(10, 25, 100, 399, 234, 1)]\n",
      "(10, 300, 600)\n",
      "[1, 7, 11, 13, 17, 19, 23, 29, 31, 37, 41, 43, 47, 49, 53, 59, 61, 67, 71, 73, 77, 79, 83, 89, 91, 97, 101, 103, 107, 109, 113, 119, 121, 127, 131, 133, 137, 139, 143, 149, 151, 157, 161, 163, 167, 169, 173, 179, 181, 187, 191, 193, 197, 199, 203, 209, 211, 217, 221, 223, 227, 229, 233, 239, 241, 247, 251, 253, 257, 259, 263, 269, 271, 277, 281, 283, 287, 289, 293, 299, 301, 307, 311, 313, 317, 319, 323, 329, 331, 337, 341, 343, 347, 349, 353, 359, 361, 367, 371, 373, 377, 379, 383, 389, 391, 397, 401, 403, 407, 409, 413, 419, 421, 427, 431, 433, 437, 439, 443, 449, 451, 457, 461, 463, 467, 469, 473, 479, 481, 487, 491, 493, 497, 499, 503, 509, 511, 517, 521, 523, 527, 529, 533, 539, 541, 547, 551, 553, 557, 559, 563, 569, 571, 577, 581, 583, 587, 589, 593, 599]\n"
     ]
    },
    {
     "ename": "NameError",
     "evalue": "name 'primitive_roots' is not defined",
     "output_type": "error",
     "traceback": [
      "\u001b[0;31m---------------------------------------------------------------------------\u001b[0m",
      "\u001b[0;31mNameError\u001b[0m                                 Traceback (most recent call last)",
      "Cell \u001b[0;32mIn[42], line 13\u001b[0m\n\u001b[1;32m     10\u001b[0m \u001b[38;5;28mprint\u001b[39m((a, ) \u001b[38;5;241m+\u001b[39m \u001b[38;5;28mtuple\u001b[39m(k \u001b[38;5;28;01mfor\u001b[39;00m k \u001b[38;5;129;01min\u001b[39;00m \u001b[38;5;28mrange\u001b[39m(\u001b[38;5;241m1\u001b[39m, ord_n \u001b[38;5;241m+\u001b[39m \u001b[38;5;241m1\u001b[39m) \u001b[38;5;28;01mif\u001b[39;00m a \u001b[38;5;241m*\u001b[39m\u001b[38;5;241m*\u001b[39m k \u001b[38;5;241m%\u001b[39m n \u001b[38;5;241m==\u001b[39m \u001b[38;5;241m1\u001b[39m)) \n\u001b[1;32m     12\u001b[0m \u001b[38;5;28mprint\u001b[39m(\u001b[38;5;28msorted\u001b[39m(co_primes(totient(n))))\n\u001b[0;32m---> 13\u001b[0m \u001b[38;5;28mprint\u001b[39m(\u001b[43mprimitive_roots\u001b[49m(n))\n",
      "\u001b[0;31mNameError\u001b[0m: name 'primitive_roots' is not defined"
     ]
    }
   ],
   "source": [
    "n = 601\n",
    "ord_n = totient(n)\n",
    "fs = [f[0] for f in ifactors(ord_n)] + [ord_n, ]\n",
    "\n",
    "print(sorted(set(order(a, n) for a in range(1, n)))) #, 2 ** ord_n % n\n",
    "print([f for f in ifactors(ord_n)])\n",
    "\n",
    "a = 10\n",
    "print([(a, order(2, n)) + tuple(a ** k % n for k in fs) ]) \n",
    "print((a, ) + tuple(k for k in range(1, ord_n + 1) if a ** k % n == 1)) \n",
    "\n",
    "print(sorted(co_primes(totient(n))))\n",
    "print(primitive_roots(n))"
   ]
  },
  {
   "cell_type": "code",
   "execution_count": null,
   "id": "52c4d408-6754-483e-9024-a48b816534d4",
   "metadata": {
    "tags": []
   },
   "outputs": [],
   "source": [
    "len(cyclic_group(6, 17, lambda a, b: a * b))\n",
    "n = 17\n",
    "print(co_primes(n))\n",
    "a_s = co_primes(n)\n",
    "g = 6\n",
    "set([(k, a, g ** k % n) for a in a_s  for k in range(1, n) if g ** k % n == a]), len(set([k for k in range(1, n) for a in a_s  if g ** k % n == a ])), len(a_s)"
   ]
  },
  {
   "cell_type": "code",
   "execution_count": 71,
   "id": "b44de8ac-7ad0-4666-b4fd-637a2abfc93c",
   "metadata": {
    "tags": []
   },
   "outputs": [
    {
     "name": "stdout",
     "output_type": "stream",
     "text": [
      "[(1, 6), (2, 2), (3, 12), (4, 4), (5, 7), (6, 8), (7, 14), (8, 16), (9, 11), (10, 15), (11, 5), (12, 13), (13, 10), (14, 9), (15, 3), (16, 1)]\n",
      "[(1, 1), (2, 8), (3, 16), (4, 4), (5, 16), (6, 16), (7, 16), (8, 8), (9, 8), (10, 16), (11, 16), (12, 16), (13, 4), (14, 16), (15, 8), (16, 2)]\n",
      "{3, 5, 6, 7, 10, 11, 12, 14}\n",
      "{1, 2, 3, 4, 5, 6, 7, 8, 9, 10, 11, 12, 13, 14, 15, 16}\n"
     ]
    },
    {
     "data": {
      "text/plain": [
       "(16, {1, 2, 3, 4, 5, 6, 7, 8, 9, 10, 11, 12, 13, 14, 15, 16})"
      ]
     },
     "execution_count": 71,
     "metadata": {},
     "output_type": "execute_result"
    }
   ],
   "source": [
    "p = 17\n",
    "a = 6\n",
    "print([(k, a ** k % p)\n",
    "       for k in range(1, p)])\n",
    "\n",
    "print([(a, order(a, p)) for a in range(1, p)])\n",
    "print(order_of_powers(a, p))\n",
    "print(primative_roots(p))\n",
    "len(cyclic_group(a, p, lambda a, b: a * b)), cyclic_group(a, p, lambda a, b: a * b)\n",
    "#set([(a ** i % p) for i in range(1, p) if gcd(i, p-1) == 1])"
   ]
  },
  {
   "cell_type": "code",
   "execution_count": 46,
   "id": "76a2c607-951d-4dfb-9ab2-14b8a69b9a6f",
   "metadata": {
    "tags": []
   },
   "outputs": [
    {
     "name": "stdout",
     "output_type": "stream",
     "text": [
      "[(1, 5), (2, 7), (3, 17), (4, 13), (5, 11), (6, 1), (7, 5), (8, 7), (9, 17), (10, 13), (11, 11), (12, 1), (13, 5), (14, 7), (15, 17), (16, 13), (17, 11)]\n",
      "[(1, 1), (2, 6), (3, 2), (4, 3), (5, 6), (6, 2), (7, 3), (8, 2), (9, 1), (10, 1), (11, 6), (12, 2), (13, 3), (14, 6), (15, 2), (16, 3), (17, 2)]\n",
      "set()\n"
     ]
    },
    {
     "data": {
      "text/plain": [
       "(6, {1, 5, 7, 11, 13, 17})"
      ]
     },
     "execution_count": 46,
     "metadata": {},
     "output_type": "execute_result"
    }
   ],
   "source": [
    "p = 18\n",
    "a = 5\n",
    "print([(k, a ** k % p)\n",
    "       for k in range(1, p)])\n",
    "\n",
    "print([(a, order(a, p)) for a in range(1, p)])\n",
    "print(order_of_powers(a, p))\n",
    "print(primative_roots(p))\n",
    "len(cyclic_group(a, p, lambda a, b: a * b)), cyclic_group(a, p, lambda a, b: a * b)\n",
    "#set([(a ** i % p) for i in range(1, p) if gcd(i, p-1) == 1])"
   ]
  },
  {
   "cell_type": "code",
   "execution_count": 5,
   "id": "01559b08-b57b-4425-b0a8-bec2adfecc97",
   "metadata": {},
   "outputs": [
    {
     "name": "stdout",
     "output_type": "stream",
     "text": [
      "set()\n"
     ]
    }
   ],
   "source": [
    "print(primative_roots(25))\n"
   ]
  },
  {
   "cell_type": "code",
   "execution_count": 58,
   "id": "2705ab9b-9c0f-4fc3-a4fa-acfb13ad1f3c",
   "metadata": {
    "tags": []
   },
   "outputs": [
    {
     "data": {
      "text/plain": [
       "(array([3, 4, 1]), array([4, 1]), array([1]))"
      ]
     },
     "execution_count": 58,
     "metadata": {},
     "output_type": "execute_result"
    }
   ],
   "source": [
    "f_p = np.array([1, 2, 3, 0])\n",
    "(f_p + 1)[0-3:], (f_p + 1)[1-3:], (f_p + 1)[2-3:]"
   ]
  }
 ],
 "metadata": {
  "kernelspec": {
   "display_name": "Python 3 (ipykernel)",
   "language": "python",
   "name": "python3"
  },
  "language_info": {
   "codemirror_mode": {
    "name": "ipython",
    "version": 3
   },
   "file_extension": ".py",
   "mimetype": "text/x-python",
   "name": "python",
   "nbconvert_exporter": "python",
   "pygments_lexer": "ipython3",
   "version": "3.11.5"
  }
 },
 "nbformat": 4,
 "nbformat_minor": 5
}
