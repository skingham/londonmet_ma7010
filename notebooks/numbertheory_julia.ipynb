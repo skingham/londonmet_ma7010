{
 "cells": [
  {
   "cell_type": "code",
   "execution_count": null,
   "id": "33e331d1-af82-4115-a155-9dea40926925",
   "metadata": {},
   "outputs": [],
   "source": [
    "using Downloads\n",
    "\n",
    "#download_covid = Downloads.download(\"https://api.covidtracking.com/v1/us/daily.csv\",\n",
    "#                                    \"covid_us.csv\")"
   ]
  },
  {
   "cell_type": "code",
   "execution_count": null,
   "id": "591616ed-3beb-4da5-a1ab-a02f194b7851",
   "metadata": {},
   "outputs": [],
   "source": [
    "using DataFrames, CSV, Plots, Dates\n",
    "\n",
    "columns = [:date, :totalTestResultsIncrease]\n",
    "fmt = \"yyyymmdd\"\n",
    "t = Dict(:date=>Date)\n",
    "\n",
    "covid_df = CSV.read(\"covid_us.csv\",\n",
    "                    DataFrame,\n",
    "                    dateformat=fmt,\n",
    "                    select=columns,\n",
    "                    types=t)\n",
    "\n",
    "covid_df = sort(filter(row -> row.totalTestResultsIncrease > 0, covid_df))\n",
    "last(covid_df,5)"
   ]
  },
  {
   "cell_type": "code",
   "execution_count": null,
   "id": "3d00a656-026d-4c38-bea2-b2d72ed83846",
   "metadata": {},
   "outputs": [],
   "source": [
    "using RollingFunctions\n",
    "\n",
    "# plot daily test increase as sticks\n",
    "Plots.plot(covid_df.date,\n",
    "    covid_df.totalTestResultsIncrease,\n",
    "    seriestype=:sticks,\n",
    "    label=\"Test Increase\",\n",
    "    title = \"USA Total Testing Capacity\",\n",
    "    lw = 2)\n",
    "\n",
    "# 7-day average using rolling mean\n",
    "window = 7\n",
    "average = rollmean(covid_df.totalTestResultsIncrease, window)\n",
    "\n",
    "# we mutate the existing plot\n",
    "Plots.plot!(covid_df.date,\n",
    "    cat(zeros(window - 1), average, dims=1),\n",
    "    label=\"7-day Average\",\n",
    "    lw=3)"
   ]
  },
  {
   "cell_type": "code",
   "execution_count": null,
   "id": "daa98be2-2a98-40e9-803a-4c55c0421ebd",
   "metadata": {},
   "outputs": [],
   "source": []
  }
 ],
 "metadata": {
  "kernelspec": {
   "display_name": "Julia 1.10.0",
   "language": "julia",
   "name": "julia-1.10"
  },
  "language_info": {
   "file_extension": ".jl",
   "mimetype": "application/julia",
   "name": "julia",
   "version": "1.10.0"
  }
 },
 "nbformat": 4,
 "nbformat_minor": 5
}
