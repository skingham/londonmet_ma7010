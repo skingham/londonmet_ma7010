{
 "cells": [
  {
   "cell_type": "code",
   "execution_count": null,
   "id": "996866b1-b385-4313-8597-ab651ca2e3f5",
   "metadata": {},
   "outputs": [],
   "source": []
  },
  {
   "cell_type": "code",
   "execution_count": null,
   "id": "4fb70a95-d78e-4b0e-be4d-c798ea62d454",
   "metadata": {},
   "outputs": [],
   "source": []
  },
  {
   "cell_type": "markdown",
   "id": "1ebe4ba3-af90-4006-b704-f9590252efcf",
   "metadata": {},
   "source": [
    "# Assignment 3\n",
    "\n",
    "Stuart\n",
    "\n",
    "a = 2353\n",
    "b = 20837\n",
    "c = 500551\n",
    "d = 29213\n",
    "\n",
    "Q6 = iii)"
   ]
  },
  {
   "cell_type": "code",
   "execution_count": 1,
   "id": "5973c1a0-dfa2-4f16-b10f-7d45cac0000c",
   "metadata": {
    "tags": []
   },
   "outputs": [],
   "source": [
    "a = 2353\n",
    "b = 20837\n",
    "c = 500551\n",
    "d = 29213"
   ]
  },
  {
   "cell_type": "markdown",
   "id": "c02dc72d-4f3b-48b2-82c2-36a68ed7a96e",
   "metadata": {},
   "source": [
    "__Question 1 (10 marks):__\n",
    "\n",
    "For the number $a$ given to you on page 1 answer the following:\n",
    "\n",
    "* Show that a can be written as the sum of squares in two different ways. \n",
    "    \n",
    "* Hence apply Euler’s method to factorise a."
   ]
  },
  {
   "cell_type": "code",
   "execution_count": null,
   "id": "c9062fa4-3620-49e1-811f-9a818fd3e6c2",
   "metadata": {},
   "outputs": [],
   "source": [
    "# Write a function for Euler's method"
   ]
  },
  {
   "cell_type": "markdown",
   "id": "a1415ef6-aaa0-42fa-89f3-edf59506ff31",
   "metadata": {},
   "source": [
    "__Question 2 (10 marks):__\n",
    "\n",
    "Take the number $b$ assigned to you on page 1 and apply the gcd method to find its smallest factor.\n",
    "    \n",
    "What is the value of $P_0$ that you need to guarantee finding a factor given that $b$ is composite?"
   ]
  },
  {
   "cell_type": "code",
   "execution_count": null,
   "id": "f588bb37-ec73-4c98-a92c-b0fe64fe1158",
   "metadata": {},
   "outputs": [],
   "source": []
  },
  {
   "cell_type": "markdown",
   "id": "a1432ce4-952c-4a24-939d-8588eaf50a7d",
   "metadata": {},
   "source": [
    "__Question 3 (10 marks):__\n",
    "\n",
    "Take the number $c$ assigned to you on page and use the $p-1$ method to find one factor of $c$. You may assume that $c-1$ factorises into primes of size $< 100$."
   ]
  },
  {
   "cell_type": "code",
   "execution_count": null,
   "id": "8f9b576c-0a96-418f-a174-26414ba93f59",
   "metadata": {},
   "outputs": [],
   "source": []
  },
  {
   "cell_type": "markdown",
   "id": "c49b9fe7-c0ec-4aea-9f69-4669538a9054",
   "metadata": {},
   "source": [
    "__Question 4 (10 marks)__\n",
    "\n",
    "Take the number $d$ assigned to you on page and use the $p-1$ method to find both factors of $d$. You may NOT use the maple procedure provided in weblearn."
   ]
  },
  {
   "cell_type": "code",
   "execution_count": null,
   "id": "99940ff1-d391-411b-91a9-7cc36cef95d5",
   "metadata": {},
   "outputs": [],
   "source": []
  },
  {
   "cell_type": "markdown",
   "id": "1fd6d668-4d03-417d-a98d-99a6459ea584",
   "metadata": {},
   "source": [
    "__Question 5 (15 marks)__\n",
    "\n",
    "Take the same number $d$ and now factorise using the Quadratic Sieve method. You may use Maple commands included in the week 10 workshop folder."
   ]
  },
  {
   "cell_type": "code",
   "execution_count": null,
   "id": "6e80a129-bbe0-4726-b975-c1b2817fc7df",
   "metadata": {},
   "outputs": [],
   "source": []
  },
  {
   "cell_type": "markdown",
   "id": "667b0518-fa78-4c5c-a040-df5ffa7229cb",
   "metadata": {},
   "source": [
    "__Question 6 (15 marks)__\n",
    "\n",
    "The Maple worksheet in Weblearn for this assignment shows part of an attempt to factorise $N = 9263 = 59*157$ using the Number Field Sieve. In this we claim the following:\n",
    "\n",
    "&nbsp;&nbsp;&nbsp;&nbsp;$A = [0 , 1, 0]$ is a prime(irreducible) element of $\\mathbb{Z}(\\sqrt[3]{-2})$   with norm = 2\n",
    "    \n",
    "&nbsp;&nbsp;&nbsp;&nbsp;$B = [-1 ,- 1, 0]$ is a prime(irreducible) element of $\\mathbb{Z}(\\sqrt[3]{-2})$   with norm = 3\n",
    "    \n",
    "&nbsp;&nbsp;&nbsp;&nbsp;$C = [1, 0 , 1]$ is a prime(irreducible) element of $\\mathbb{Z}(\\sqrt[3]{-2})$   with norm = 5  \n",
    "    \n",
    "&nbsp;&nbsp;&nbsp;&nbsp;$D = [1 , 1, -1]$ is a prime(irreducible) element of $\\mathbb{Z}(\\sqrt[3]{-2})$   with norm = 11\n",
    "    \n",
    "&nbsp;&nbsp;&nbsp;&nbsp;$E = [1 , -2, 0]$ is a prime(irreducible) element of $\\mathbb{Z}(\\sqrt[3]{-2})$   with norm = 17\n",
    "    \n",
    "&nbsp;&nbsp;&nbsp;&nbsp;$F = [3 , 0, -1]$ is a prime(irreducible) element of $\\mathbb{Z}(\\sqrt[3]{-2})$  with norm = 23\n",
    "\n",
    "We also derive a $48 x 15$ matrix $R$ consisting of values of $a$ and $b$ such that $a + 21b$ can be factorised using small primes and $[a, b, 0]$ can \n",
    "be factorised in Z(∛(-2) using just the primes ${A, B, C, D, E, F}$ and a unit element U = $[1, 1, 0]$.\n",
    "\n",
    "&nbsp;&nbsp;&nbsp;&nbsp;Prove the statement *iii)* $C$ above allocated to you on page 1 using the definition of a norm.\n",
    "    \n",
    "&nbsp;&nbsp;&nbsp;&nbsp;Show that rows 23, 37, 41 and 45 of the matrix  form a linearly dependent set modulo 2\n",
    "    \n",
    "&nbsp;&nbsp;&nbsp;&nbsp;Hence find an equation of the form $u_2 – v_2$ such that $u_2 – v_2$ and $N$ have a common factor of $59$ thus \n",
    "factorising N. You may use the Maple procedure for multiplication in $\\mathbb{Z}(\\sqrt[3]{-2})$ to help you find $u$ and $v$."
   ]
  },
  {
   "cell_type": "code",
   "execution_count": null,
   "id": "b2cbb8bb-2805-4da3-bd6c-664aea544b7d",
   "metadata": {},
   "outputs": [],
   "source": []
  },
  {
   "cell_type": "markdown",
   "id": "f2665aad-1333-4c72-a2e7-17b6950e57dd",
   "metadata": {},
   "source": [
    "__Q7__\n",
    "\n",
    "Compare the methods for integer factorisation you have seen in the module and summarises their strengths and weaknesses, including the size of numbers that can be factorised, usability and whether or not they work for a broad range of numbers.  "
   ]
  },
  {
   "cell_type": "code",
   "execution_count": null,
   "id": "71c80197-ab8d-4e49-bc23-af3fc957c8d7",
   "metadata": {},
   "outputs": [],
   "source": []
  }
 ],
 "metadata": {
  "kernelspec": {
   "display_name": "Python 3 (ipykernel)",
   "language": "python",
   "name": "python3"
  },
  "language_info": {
   "codemirror_mode": {
    "name": "ipython",
    "version": 3
   },
   "file_extension": ".py",
   "mimetype": "text/x-python",
   "name": "python",
   "nbconvert_exporter": "python",
   "pygments_lexer": "ipython3",
   "version": "3.11.5"
  }
 },
 "nbformat": 4,
 "nbformat_minor": 5
}
