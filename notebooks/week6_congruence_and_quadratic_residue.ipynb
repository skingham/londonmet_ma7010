{
 "cells": [
  {
   "cell_type": "markdown",
   "metadata": {},
   "source": [
    "MA7010 – Number Theory for Cryptography\n",
    "Week 6 Exercises\n",
    "\n",
    "1.\tIn each of the examples below take $p$ and $q$ (you may assume these are primes) and calculate by hand using a calculator if necessary:\n",
    "\n",
    "\ti)\t$d = e^{-1} \\bmod (p-1)(q-1)$ using Euclid’s algorithm;\n",
    "\n",
    "\tii)\tDerive the numbers $d_p$ $d_q$ $q_{inv}$ ;\n",
    "\n",
    "\tiii) Find two linear congruence equations, one mod p and one mod q;\n",
    "\n",
    "\tiv)\tSolve your equations to find the value of $K^d \\bmod pq$ for the given value of K;\n",
    "\n",
    "\tv)\tCheck your answer by calculating $K^d \\bmod pq$ directly by modular exponentiation. \n",
    "\n",
    "\t\ta)\t\tp = 19\t\tq = 23 \t\te = 13\t\tK = 19\n",
    "\t\tb)\t\tp = 29\t\tq = 13\t\te = 11\t\tK = 21\n",
    "\t\tc)\t\tp = 17\t\tq = 19\t\te = 7\t\tK = 29"
   ]
  },
  {
   "cell_type": "code",
   "execution_count": null,
   "metadata": {},
   "outputs": [],
   "source": []
  },
  {
   "cell_type": "markdown",
   "metadata": {},
   "source": [
    "2.\tRepeat the same steps but now use Maple wherever it helps you deal with larger numbers\n",
    "\n",
    "\t\ta)\t\tp = 79\t\tq = 83\t\te = 29\t\tK = 147\n",
    "\t\tb)\t\tp = 59\t\tq = 97\t\te = 19\t\tK = 102"
   ]
  },
  {
   "cell_type": "code",
   "execution_count": null,
   "metadata": {},
   "outputs": [],
   "source": []
  },
  {
   "cell_type": "markdown",
   "metadata": {},
   "source": [
    "3.\tUse Euler’s Criteria (and no other property of the Legendre Symbol) to calculate \n",
    "\n",
    "\t\ta)\t(17 / 41)\n",
    "\t\tb)\t(18 / 37)\n",
    "\t\tc) \t(11 / 53)\n",
    "\n",
    "The Legendre symbol is a mathematical function denoted as $(\\frac{a}{p}​)$, where $a$ is an integer and $p$ is an odd prime. \n",
    "\n",
    "The Legendre symbol is defined as follows:\n",
    "\n",
    "$\\left(\\frac{a}{p}\\right) = \n",
    "\\begin{cases}\n",
    "0 & \\text{if } a \\equiv 0 \\pmod{p} \\\\\n",
    "1 & \\text{if } a \\text{ is a quadratic residue modulo } p \\\\\n",
    "-1 & \\text{if } a \\text{ is a non-quadratic residue modulo } p\n",
    "\\end{cases}$\n",
    "\n",
    "Euler's criterion provides a condition for determining whether a given integer $a$ is a quadratic residue modulo an odd prime $p$. It is closely related to the Legendre symbol.\n",
    "\n",
    "It states that for an odd prime $p$ and an integer $a$ not divisible by $p$, the Legendre symbol $(\\frac{a}{p})$ is congruent to $a^{\\frac{(p−1)}{2}} \\pmod p$. \n",
    "\n",
    "Mathematically, it can be expressed as:\n",
    "\n",
    "$\\left(\\frac{a}{p}\\right) \\equiv a^{\\frac{(p−1)}{2}} \\pmod p$\n",
    "\n"
   ]
  },
  {
   "cell_type": "code",
   "execution_count": 13,
   "metadata": {},
   "outputs": [
    {
     "name": "stdout",
     "output_type": "stream",
     "text": [
      "Euler's criterion: (a/p) is not (40) a quadratic residue mod p\n",
      "Euler's criterion: (a/p) is not (36) a quadratic residue mod p\n",
      "Euler's criterion: (a/p) is  (1) a quadratic residue mod p\n",
      "Euler's criterion: (a/p) is  (1) a quadratic residue mod p\n"
     ]
    }
   ],
   "source": [
    "# a) a=17, p=41\n",
    "print(f\"Euler's criterion: (a/p) is {'' if (17 ** ((41-1)//2) % 41) == 1 else 'not'} ({ (17 ** ((41-1)//2)) % 41}) a quadratic residue mod p\")\n",
    "# a) a=18, p=37\n",
    "print(f\"Euler's criterion: (a/p) is {'' if (18 ** ((37-1)//2) % 37) == 1 else 'not'} ({ (18 ** ((37-1)//2)) % 37}) a quadratic residue mod p\")\n",
    "# a) a=11, p=53\n",
    "print(f\"Euler's criterion: (a/p) is {'' if (11 ** ((53-1)//2) % 53) == 1 else 'not'} ({ (11 ** ((53-1)//2)) % 53}) a quadratic residue mod p\")\n",
    "# a) a=11, p=53\n",
    "print(f\"Euler's criterion: (a/p) is {'' if (17 ** ((13-1)//2) % 13) == 1 else 'not'} ({ (17 ** ((13-1)//2)) % 13}) a quadratic residue mod p\")\n"
   ]
  },
  {
   "cell_type": "markdown",
   "metadata": {},
   "source": [
    "4.\tTake values of p = 23,\tp = 29,     p = 41,      p = 59.   Write down the elements of the sets A, B and C defined in slide 14 of the week 6 lecture and explain why these allow you to calculate (2 / p) in each of the cases."
   ]
  },
  {
   "cell_type": "code",
   "execution_count": null,
   "metadata": {},
   "outputs": [],
   "source": []
  },
  {
   "cell_type": "markdown",
   "metadata": {},
   "source": [
    "5.\tUse Gauss’ Quadratic Reciprocity Theorem and the properties of the Legendre Symbol to calculate :\n",
    "\n",
    "\t\ti)\t(77 / 103)\t\n",
    "\t\tii)\t(52 / 97)\t\n",
    "\t\tiii)\t(2275 / 3001)\n",
    "\t\tiv)\t(1715 / 2503)"
   ]
  },
  {
   "cell_type": "markdown",
   "metadata": {},
   "source": []
  }
 ],
 "metadata": {
  "kernelspec": {
   "display_name": "py311_jupyterlab3_ai",
   "language": "python",
   "name": "python3"
  },
  "language_info": {
   "codemirror_mode": {
    "name": "ipython",
    "version": 3
   },
   "file_extension": ".py",
   "mimetype": "text/x-python",
   "name": "python",
   "nbconvert_exporter": "python",
   "pygments_lexer": "ipython3",
   "version": "3.11.4"
  }
 },
 "nbformat": 4,
 "nbformat_minor": 2
}
