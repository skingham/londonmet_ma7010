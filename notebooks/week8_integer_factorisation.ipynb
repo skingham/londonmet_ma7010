{
 "cells": [
  {
   "cell_type": "code",
   "execution_count": null,
   "id": "2b817475-3c41-4ef4-8814-e80977ac8967",
   "metadata": {},
   "outputs": [],
   "source": []
  },
  {
   "cell_type": "markdown",
   "id": "d9b6cdc9-00cc-4aba-aab9-4b3d7d287ef7",
   "metadata": {},
   "source": [
    "# Integer Factorisation"
   ]
  },
  {
   "cell_type": "code",
   "execution_count": null,
   "id": "064efd80-3f47-49ca-aa00-f73d131bbfea",
   "metadata": {},
   "outputs": [],
   "source": []
  }
 ],
 "metadata": {
  "kernelspec": {
   "display_name": "Python 3 (ipykernel)",
   "language": "python",
   "name": "python3"
  },
  "language_info": {
   "codemirror_mode": {
    "name": "ipython",
    "version": 3
   },
   "file_extension": ".py",
   "mimetype": "text/x-python",
   "name": "python",
   "nbconvert_exporter": "python",
   "pygments_lexer": "ipython3",
   "version": "3.11.5"
  }
 },
 "nbformat": 4,
 "nbformat_minor": 5
}
