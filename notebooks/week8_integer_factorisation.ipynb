{
 "cells": [
  {
   "cell_type": "code",
   "execution_count": 1,
   "id": "2b817475-3c41-4ef4-8814-e80977ac8967",
   "metadata": {},
   "outputs": [],
   "source": [
    "import math\n",
    "import numpy as np\n",
    "import secrets\n",
    "import sys, os\n",
    "from typing import Optional, Set, Tuple, Generator\n",
    "\n",
    "sys.path.append(os.path.abspath(os.path.join(os.getcwd(), '..', 'python')))\n",
    "from qfl_crypto import number_theory "
   ]
  },
  {
   "cell_type": "markdown",
   "id": "d9b6cdc9-00cc-4aba-aab9-4b3d7d287ef7",
   "metadata": {},
   "source": [
    "## MA7010 – Week 8 Exercises  Integer Factorisation"
   ]
  },
  {
   "cell_type": "markdown",
   "id": "9eeeff0c",
   "metadata": {},
   "source": [
    "__1.\tTry to factorise the following numbers using Fermat Factorisation__\n",
    "\n",
    "\ti)\tn = 18923\n",
    "    ii)\tn = 34547"
   ]
  },
  {
   "cell_type": "markdown",
   "id": "f6c80e21",
   "metadata": {},
   "source": []
  },
  {
   "cell_type": "markdown",
   "id": "1734c20f",
   "metadata": {},
   "source": [
    "__2.\tTry to write a Maple procedure that will perform Fermat factorisation and test it with your values for n from Question 1.__"
   ]
  },
  {
   "cell_type": "code",
   "execution_count": null,
   "id": "064efd80-3f47-49ca-aa00-f73d131bbfea",
   "metadata": {},
   "outputs": [],
   "source": []
  },
  {
   "cell_type": "markdown",
   "id": "0e57eabe",
   "metadata": {},
   "source": [
    "__3.\tWrite a procedure that will take a number n and produce all possible decompositions into two squares $n = a^2 + b^2$ (a and b both > 0).__\n",
    "\n",
    "You should use a for loop and test whether $type(sqrt(n-i^2),integer)$ as this will give a decomposition where $a = i$ and $b = sqrt(n-i^2)$.\n",
    "\n",
    "You need to be careful about the values that I can take."
   ]
  },
  {
   "cell_type": "code",
   "execution_count": null,
   "id": "ff11a289",
   "metadata": {},
   "outputs": [],
   "source": []
  },
  {
   "cell_type": "markdown",
   "id": "ed303b6f",
   "metadata": {},
   "source": [
    "__4.\tUse your procedure or other methods to factorise__\n",
    "\n",
    "\ti)\tn = 5249\n",
    "    ii)\tn = 5365\n",
    "    iii)    n = 5917"
   ]
  },
  {
   "cell_type": "code",
   "execution_count": null,
   "id": "a9106eb5",
   "metadata": {},
   "outputs": [],
   "source": []
  },
  {
   "cell_type": "markdown",
   "id": "d50f29da",
   "metadata": {},
   "source": [
    "_5._\n",
    "\n",
    "a)\tWrite a Maple loop to find the product of the first 100 primes. You can use ithprime to help with this. "
   ]
  },
  {
   "cell_type": "code",
   "execution_count": null,
   "id": "32468163",
   "metadata": {},
   "outputs": [],
   "source": []
  },
  {
   "cell_type": "markdown",
   "id": "d02c316b",
   "metadata": {},
   "source": [
    "b)\tUse the gcd method with the value of P0 found in a) to factorise:\n",
    "\n",
    "\ti)\t98291\n",
    "    ii)\t113483"
   ]
  },
  {
   "cell_type": "code",
   "execution_count": null,
   "id": "febc8e2a",
   "metadata": {},
   "outputs": [],
   "source": []
  },
  {
   "cell_type": "markdown",
   "id": "b81c4b04",
   "metadata": {},
   "source": [
    "_6.\tUse Pollards p-1 method (with Maple to help with the calculations) to factorise the following numbers__\n",
    "\n",
    "    i)      50009\n",
    "    ii) \t50059\n",
    "    iii)    50987"
   ]
  },
  {
   "cell_type": "code",
   "execution_count": null,
   "id": "ba4e6b94",
   "metadata": {},
   "outputs": [],
   "source": []
  },
  {
   "cell_type": "markdown",
   "id": "5f2750b5",
   "metadata": {},
   "source": [
    "__7.\tNow use Pollard Rho method to factor the same numbers as in Question 6 and compare your answers.__\n",
    "\n",
    "Which method feels easier?"
   ]
  },
  {
   "cell_type": "code",
   "execution_count": null,
   "id": "a1273a74",
   "metadata": {},
   "outputs": [],
   "source": []
  }
 ],
 "metadata": {
  "kernelspec": {
   "display_name": "Python 3 (ipykernel)",
   "language": "python",
   "name": "python3"
  },
  "language_info": {
   "codemirror_mode": {
    "name": "ipython",
    "version": 3
   },
   "file_extension": ".py",
   "mimetype": "text/x-python",
   "name": "python",
   "nbconvert_exporter": "python",
   "pygments_lexer": "ipython3",
   "version": "3.11.4"
  }
 },
 "nbformat": 4,
 "nbformat_minor": 5
}
