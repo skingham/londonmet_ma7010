{
 "cells": [
  {
   "cell_type": "code",
   "execution_count": null,
   "id": "35ce8eb1-7c5e-4b15-a23d-3c23d5c32d9f",
   "metadata": {
    "tags": []
   },
   "outputs": [],
   "source": [
    "import math\n",
    "import numpy as np\n",
    "import pandas as pd\n",
    "from typing import Tuple, List, Optional"
   ]
  },
  {
   "cell_type": "markdown",
   "id": "68280fa9-34a1-4648-bffd-d10c4fe08f69",
   "metadata": {},
   "source": [
    "# MA7010 Assignment 1: Primes and Prime Testing\n"
   ]
  },
  {
   "cell_type": "code",
   "execution_count": null,
   "id": "4b5cd505-fd73-4d67-9fe2-5a40f0df859b",
   "metadata": {
    "tags": []
   },
   "outputs": [],
   "source": [
    "def gcd_recursion(a: int, b: int) -> int:\n",
    "    \"\"\" Find GCD by recursing on a mod b \"\"\"\n",
    "    if(b == 0):\n",
    "        return abs(a)\n",
    "\n",
    "    return gcd_recursion(b, a % b)\n",
    "\n",
    "def gcd_euclidian(a: int, b: int) -> int:\n",
    "    \"\"\" Euler algo \"\"\"\n",
    "\n",
    "    # a = q * b - r\n",
    "    q = a // b\n",
    "    r = a - q * b\n",
    "    \n",
    "    # Stopping condition: r = 0\n",
    "    if r == 0:\n",
    "        return b\n",
    "    \n",
    "    # next iteration b = r * q_2 + r\n",
    "    return gcd_euclidian(b, r)\n",
    "\n",
    "def gcd(a: int, b: int, fn = None) -> int:\n",
    "    \"\"\"  \"\"\"\n",
    "    # ensure a >= b\n",
    "    a, b = (a, b) if a >= b else (b, a)\n",
    "\n",
    "    fn = fn or gcd_euclidian\n",
    "    return fn(a, b)\n",
    "\n",
    "def extended_euclidian(a: int, b: int, state:Tuple[int, int, int] = None) -> int:\n",
    "    \"\"\" Euler algo: find gcd(a, b)  \"\"\"\n",
    "\n",
    "    # ensure a >= b\n",
    "    a, b = (a, b) if a >= b else (b, a)\n",
    "    if state == None:\n",
    "        state = (np.array([a, 1, 0]), np.array([b, 0, 1]))\n",
    "    \n",
    "    # Stopping condition: r = 0\n",
    "    if state[1][0] <= 0:\n",
    "        return tuple(v for v in state[0])\n",
    "    \n",
    "    # a = q * b - r\n",
    "    q = state[0][0] // state[1][0]\n",
    "    w = state[0] - q * state[1]\n",
    "    state = (state[1], w)\n",
    "    \n",
    "    # next iteration b = r * q_2 + r\n",
    "    return extended_euclidian(a, b, state)\n",
    "\n",
    "def sieve_of_eratosthenes(n: int) -> Tuple[int,...]:\n",
    "    \"\"\" Simple sieve to find primes up to n \"\"\"\n",
    "    n = n if n > 0 else -n\n",
    "    if n < 2:\n",
    "        return tuple()\n",
    "\n",
    "    is_prime_sieve = np.full(n + 1, True)\n",
    "    is_prime_sieve[0:2] = False\n",
    "    is_prime_sieve[4::2] = False\n",
    "    \n",
    "    # Start with 2 and odd numbers from 3 to n\n",
    "    sqrt_n = math.ceil(np.sqrt(n))\n",
    "    for si in range(3, sqrt_n + 1, 2):\n",
    "        if is_prime_sieve[si]:\n",
    "            # Mark every multiple of si from si^2\n",
    "            is_prime_sieve[si ** 2::si] = False\n",
    "    return tuple(int(i) for i in np.flatnonzero(is_prime_sieve))\n",
    "\n",
    "def primes_below(n: int):\n",
    "    \"\"\" \"\"\"\n",
    "    is_prime = [True, ] * (n + 1)\n",
    "    for p in range(2, n):\n",
    "        if is_prime[p]:\n",
    "            for i in range(p * p, n + 1, p):\n",
    "                is_prime[i] = False\n",
    "            yield p\n",
    "    return\n",
    "\n",
    "def next_prime(n: int):\n",
    "    \"\"\" \"\"\"\n",
    "    for p in primes_below((int(np.ceil(np.sqrt(n))) + 1) ** 2):\n",
    "        if p > n:\n",
    "            break\n",
    "    return p\n",
    "\n",
    "def is_prime(n: int) -> bool:\n",
    "    \"\"\" check if is a prime by \"\"\"\n",
    "    for p in primes_below((int(np.ceil(np.sqrt(n))) + 1) ** 2):\n",
    "        if p == n:\n",
    "            return True\n",
    "    return False\n",
    "\n",
    "def ifactors(n: int):\n",
    "    \"\"\"   \"\"\"\n",
    "    n = n if n > 0 else -n\n",
    "    half_n = n // 2\n",
    "    factor_list = []\n",
    "    for p in sieve_of_eratosthenes(half_n):\n",
    "        if n % p == 0:\n",
    "            k = 1\n",
    "            m = n // p\n",
    "            while m % p == 0:\n",
    "                m = m // p\n",
    "                k += 1\n",
    "            factor_list.append((p, k))\n",
    "    \n",
    "    return factor_list or [(n, 1)]\n",
    "\n",
    "def divisors(n: int) -> Tuple[int, ...]:\n",
    "    \"\"\" \"\"\"\n",
    "    factors = tuple(ifactors(n))\n",
    "    factor_primes = np.array([f[0] for f in factors] + [0,])\n",
    "    # add one to every power, as we generate powers as (i mod factor_powers[j])\n",
    "    factor_powers = np.array([f[1] for f in factors] + [0,]) + 1\n",
    "    \n",
    "    factors_count = len(factors)\n",
    "    divisors_count = np.prod(factor_powers)\n",
    "\n",
    "    # calc product of array of each prime factor to some power, varying from 0 to the max given from ifactors fn\n",
    "    ds = sorted(int(np.prod([factor_primes[j] ** (i // np.prod(factor_powers[j - factors_count:]) % factor_powers[j])\n",
    "                             for j in range(factors_count)]))\n",
    "                for i in range(divisors_count))\n",
    "    return tuple(ds)\n",
    "\n",
    "def co_primes(n: int):\n",
    "    \"\"\" \"\"\"\n",
    "    return set([a for a in range(1, n) if gcd(a, n) == 1])\n",
    "\n",
    "def totient(n: int) -> int:\n",
    "    \"\"\" Euler's phi function is the number of values less than a that are co-prime with n \"\"\"\n",
    "    return len(co_primes(n))\n",
    "\n",
    "def order_of_powers(g: int, n: int) -> List[int]:\n",
    "    \"\"\" g ^ k % n for k being co-prime with phi(n) \"\"\"\n",
    "\n",
    "    # order_of_powers = sorted(set([pow(g, k, n) for k in co_primes(totient(n))]))\n",
    "    # keep all calcs mod n to remove overflow errors\n",
    "    ks = co_primes(totient(n))\n",
    "    order_of_powers = set()\n",
    "    g_k = 1\n",
    "    for k in range(1, n):\n",
    "        g_k = g_k * g  % n\n",
    "        if k in ks:\n",
    "            order_of_powers.add(g_k)\n",
    "    return sorted(order_of_powers)\n",
    "\n",
    "def order(a: int, n: int):\n",
    "    \"\"\" Multiplicative order of a mod n is the smallest k for which a^k mod n is 1 \"\"\"\n",
    "    if a > n or gcd(a, n) != 1:\n",
    "        return np.NaN\n",
    "\n",
    "    a_k = 1\n",
    "    for k in range(1, n):\n",
    "        a_k = a_k * a  % n\n",
    "        if a_k == 1:\n",
    "            return k\n",
    "    \n",
    "    return np.NaN\n",
    "\n",
    "def is_order_n(a: int, n: int):\n",
    "    \"\"\" Multiplicative order of a mod n is the smallest k for which a^k mod n is 1 \"\"\"\n",
    "    if a > n or gcd(a, n) != 1:\n",
    "        return np.NaN\n",
    "    \n",
    "    ord_n = totient(n)\n",
    "    # we can do better than all k < n by only looking at divisors of totient(n)\n",
    "    phi_n_divisors = divisors(ord_n)\n",
    "    for k in phi_n_divisors:\n",
    "        if pow(a, k, n) == 1:\n",
    "            return k == ord_n\n",
    "    \n",
    "    return np.NaN\n",
    "\n",
    "def cyclic_group(a, n, op):\n",
    "    group = set([pow(a, k, n) for k in range(1, n)])\n",
    "    return group\n",
    "\n",
    "def primitive_roots(n):\n",
    "    # g is a primitive root modulo n if for every integer a coprime to n, there is some integer k for which gk ≡ a (mod n)\n",
    "    \n",
    "    # check n is form 2, 4, p^s, 2p^s, where s is any positive integer and p is an odd prime\n",
    "    factors = [f for f in ifactors(n)]\n",
    "    if any((len(factors) < 1 or 2 < len(factors),  \n",
    "            (len(factors) == 2 and (factors[0][0] != 2 or factors[0][1] > 1)),\n",
    "            (len(factors) == 1 and factors[0][0] == 2 and factors[0][1] > 2),\n",
    "            (len(factors) == 1 and factors[0][0] < 2))):\n",
    "        return [] # Exception(\"No primitive roots exist\")\n",
    "    \n",
    "    # find smallest  root\n",
    "    ord_n = totient(n)\n",
    "    g = None\n",
    "    for a in co_primes(n):\n",
    "        if order(a, n) == ord_n:\n",
    "            g = a\n",
    "            break\n",
    "    \n",
    "    # There are phi(phi(n)) roots: return all roots using factors co-prime with phi(n)\n",
    "    prime_roots = order_of_powers(g, n)\n",
    "     \n",
    "    assert len(prime_roots) == totient(ord_n)\n",
    "    assert all(pow(g, ord_n, n) == 1 for g in prime_roots)\n",
    "    return prime_roots"
   ]
  },
  {
   "cell_type": "markdown",
   "id": "c04805b1",
   "metadata": {},
   "source": [
    "## Q1."
   ]
  },
  {
   "cell_type": "code",
   "execution_count": null,
   "id": "e00710f0-01a3-4ce5-b3a0-9170a7c5feaa",
   "metadata": {
    "tags": []
   },
   "outputs": [],
   "source": [
    "lower_bound = 2300\n",
    "upper_bound = 2600"
   ]
  },
  {
   "cell_type": "code",
   "execution_count": null,
   "id": "23dcdf09-9408-4505-aeed-ee4cc082768b",
   "metadata": {
    "tags": []
   },
   "outputs": [],
   "source": [
    "subset_a = set(p for p in sieve_of_eratosthenes(upper_bound) if p >= lower_bound)\n",
    "subset_b = set(n for n in range(lower_bound, upper_bound+1)) - subset_a"
   ]
  },
  {
   "cell_type": "markdown",
   "id": "c35cf817-1904-4c65-bf90-a62c8ea10443",
   "metadata": {},
   "source": [
    "a)\tList the elements of the set A = {all primes p in the range}, B = {all composite numbers in the range}"
   ]
  },
  {
   "cell_type": "code",
   "execution_count": null,
   "id": "d4ce3d02-cc3d-4e38-a8fa-62bf07ee06e4",
   "metadata": {
    "tags": []
   },
   "outputs": [],
   "source": [
    "print(subset_a)\n",
    "print(f\"In the range [{lower_bound}, {upper_bound}] there are {len(subset_a)} primes. \\t# Check with is_prime: {sum(1 for n in subset_a if is_prime(n))}\")\n",
    "print(subset_b)\n",
    "print(f\"In the range [{lower_bound}, {upper_bound}] there are {len(subset_b)} composites.\\t# Check with is_prime: {sum(1 for n in subset_b if is_prime(n))}\")"
   ]
  },
  {
   "cell_type": "markdown",
   "id": "3883e146-565d-4e4b-ad66-2ae0cc9f3d2b",
   "metadata": {},
   "source": [
    "b)\tList the elements of the set C where C = {composite numbers n = pq in your range which are the product of exactly two distinct primes p and q}."
   ]
  },
  {
   "cell_type": "code",
   "execution_count": null,
   "id": "688fe90f-6b30-4be9-b1f2-abc5ed9e7a5e",
   "metadata": {},
   "outputs": [],
   "source": [
    "prime_divisor_count = lambda n_factors: len(n_factors)\n",
    "is_square_free = lambda n_factors: len([pf for pf in n_factors if pf[1] > 1]) == 0\n",
    "subset_c = [c[0] for c in [(b, ifactors(b)) for b in subset_b] if prime_divisor_count(c[1]) == 2 and is_square_free(c[1])]\n",
    "print(f\"In the range [{lower_bound}, {upper_bound}] there are {len(subset_c)} composites of the form n=pq.\");"
   ]
  },
  {
   "cell_type": "markdown",
   "id": "d51d2c00-0cd4-4c6e-8c33-9eb52d558481",
   "metadata": {},
   "source": [
    "c) Choose any three element of the set B and then randomly select 5 values of a for each element. Apply the gcd test for each of the 12 cases and report on how accurate it is in determining that a number is composite.  "
   ]
  },
  {
   "cell_type": "code",
   "execution_count": null,
   "id": "d1da6d43-d8ed-45cb-a2eb-f09fbd981b3a",
   "metadata": {
    "tags": []
   },
   "outputs": [],
   "source": [
    "#is_prime_gcd_test := m -> evalb(igcd(m, rand(2 .. m - 1)()) = 1);\n",
    "#bs := seq(B[rand(1 .. numelems(B))()], i = 1 .. 3);\n",
    "#is_prime_results := [seq([seq(is_prime_gcd_test(b), i = 1 .. 5)], b in bs)];\n",
    "#test_accuracies := [seq(add(subs([true = 0, false = 1], result))/numelems(result), result in is_prime_results)];\n",
    "#printf(\"Success for testing that a composite is not prime by gcd, for %d runs against %d samples, is %.2f%%\\n\", nops(prime_tests), nops(op(1, prime_tests)), 100*Mean(test_accuracies));"
   ]
  },
  {
   "cell_type": "markdown",
   "id": "0e63dbc4-af66-480a-b82f-a9a85f386926",
   "metadata": {},
   "source": [
    "Question 2 (10 marks): \n",
    "\n",
    "Find all Carmichael Numbers in your range using:\n",
    "\n",
    "a)\tA direct method employing the Fermat Test that shows that a composite number n has no Fermat Witnesses;"
   ]
  },
  {
   "cell_type": "code",
   "execution_count": null,
   "id": "6fadbf4a-9d56-434f-8b70-02ecc060f30b",
   "metadata": {
    "tags": []
   },
   "outputs": [],
   "source": [
    "#fermat_tests := m -> local a; [seq(evalb(a^(m - 1) mod m <> 1), a in select(a -> igcd(a, m) = 1, [seq(a, a = 2 .. m - 1)]))];\n",
    "#fermat_witnesses := m -> add(subs(true = 1, false = 0, fermat_tests(m)));\n",
    "#fermat_liars := m -> add(subs(true = 0, false = 1, fermat_tests(m)));\n",
    "#cns := select(b -> fermat_witnesses(b) = 0, [seq(b, b in B)]);\n",
    "#`~`[cn -> [fermat_witnesses(cn), fermat_liars(cn)]](cns);"
   ]
  },
  {
   "cell_type": "markdown",
   "id": "7518fc97-f84e-4794-afe7-e5067f8a12b7",
   "metadata": {},
   "source": [
    "b)            Checking which numbers satisfy Korselt’s Criteria. "
   ]
  },
  {
   "cell_type": "code",
   "execution_count": null,
   "id": "69de2f59-8d75-4def-9dad-f83bc262dba4",
   "metadata": {
    "tags": []
   },
   "outputs": [],
   "source": [
    "#is_square_free := n -> local pf; `and`(seq(evalb(op(2, pf) = 1), pf in op(2, ifactors(n))));\n",
    "#prime_divisors := n -> local pf; seq(op(1, pf), pf in op(2, ifactors(n)));\n",
    "#has_korselt_criteria := n -> local p; `and`(is_square_free(n), seq(evalb(irem(n - 1, p - 1) = 0), p in prime_divisors(n)));\n",
    "#cns := select(b -> has_korselt_criteria(b), [seq(b, b in B)]);"
   ]
  },
  {
   "cell_type": "markdown",
   "id": "28ad5b21-f335-437e-8353-5246aca5e927",
   "metadata": {},
   "source": [
    "Question 3 (25 marks):\n",
    "\n",
    "Take the first five elements n of the set B of composite numbers with 2 factors in your range (or all numbers if you find there are less than 10). \n",
    "\n",
    "The Miller Rabin test states that at most ¼ of numbers a that are randomly chosen will give the answer that n is ‘probably prime’. How close can you get to this maximum, (i.e. which of your 5 choices has the highest proportion of possible a’s that would fail the Miller Rabin test)."
   ]
  },
  {
   "cell_type": "code",
   "execution_count": null,
   "id": "794a4efc-ae70-42d6-81b3-809aadb56f3c",
   "metadata": {
    "tags": []
   },
   "outputs": [],
   "source": [
    "#is_odd := n -> evalb(irem(n, 2) = 1);\n",
    "#powers_of_2 := n -> if is_odd(n) then return 0; else return op(2, op(1, op(2, ifactors(n)))); end if;\n",
    "#is_miller_rabin_prime := proc(m, a) local s, i, d, x, y; s := powers_of_2(m - 1); d := (m - 1)/2^s; x := a^d mod m; for i to s do y := x^2 mod m; if y = 1 and x <> 1 and x <> m - 1 then return false; end if; x := y; end do; return evalb(y = 1); end proc;"
   ]
  },
  {
   "cell_type": "code",
   "execution_count": null,
   "id": "80ebb074-33a2-435c-a2a7-b8715817b7a1",
   "metadata": {
    "tags": []
   },
   "outputs": [],
   "source": [
    "#C := select(b -> `and`(prime_divisor_count(b) = 2, true), B);\n",
    "#C :# select(b -> `and`(prime_divisor_count(b) = 2, is_odd(b)), B);\n",
    "#seq([n, ifactor(n), add(subs(true = 1, false = 0, [seq(is_miller_rabin_prime(n, a), a = 2 .. n - 2)]))/(n - 3)], n in [seq(C[i], i = 1 .. 5)]);\n",
    "#select(mr_result -> 2 < op(1, op(3, mr_result)), [seq([n, ifactor(n), add(subs(true = 1, false = 0, [seq(is_miller_rabin_prime(n, a), a = 2 .. n - 2)]))/(n - 3)], n in B)]);"
   ]
  },
  {
   "cell_type": "markdown",
   "id": "b2a7b9df-0905-489e-84bc-3b714d45bfde",
   "metadata": {},
   "source": [
    "What composite numbers m between 50 and 100 have the highest proportion of Miller Rabin failures? (For each number in the range work out the proportion of a’s that produce the answer ‘m is probably prime’). Look at the prime factorisation of these numbers and see if it suggests any patterns about which numbers are vulnerable to giving false answers in Miller Rabin.  "
   ]
  },
  {
   "cell_type": "code",
   "execution_count": null,
   "id": "05f84408-10f5-4962-a748-a7635b57ddc1",
   "metadata": {
    "tags": []
   },
   "outputs": [],
   "source": [
    "#select(mr_result -> 0 < op(3, mr_result) and is_odd(op(1, mr_result)), [seq([n, ifactor(n), add(subs(true = 1, false = 0, [seq(is_miller_rabin_prime(n, a), a = 2 .. n - 2)]))/(n - 3)], n in select(n -> not isprime(n), [seq(i, i = 50 .. 100)]))]);\n",
    "#select(mr_result -> op(3, mr_result) = 0 and is_odd(op(1, mr_result)), [seq([n, ifactor(n), add(subs(true = 1, false = 0, [seq(is_miller_rabin_prime(n, a), a = 2 .. n - 2)]))/(n - 3)], n in select(n -> not isprime(n), [seq(i, i = 50 .. 100)]))]);"
   ]
  },
  {
   "cell_type": "markdown",
   "id": "431edca0-4016-4af9-aac9-e9c8c769b03b",
   "metadata": {
    "tags": []
   },
   "source": [
    "Question 4 (15 marks):\n",
    "\n",
    "a)\tChoose any three elements of your set A and calculate the value of r used in the AKS primality test;"
   ]
  },
  {
   "cell_type": "code",
   "execution_count": null,
   "id": "c03502ef-4df4-4665-bd32-cc7b1338e5eb",
   "metadata": {},
   "outputs": [],
   "source": []
  },
  {
   "cell_type": "markdown",
   "id": "cc213eb9-c24a-4d72-9e68-42c5bb38b0cb",
   "metadata": {},
   "source": [
    "b)\tWrite a single procedure that implements the AKS test using the code that we have seen;"
   ]
  },
  {
   "cell_type": "code",
   "execution_count": null,
   "id": "e2bd71ba-b7e0-4a9f-ad66-51f40e24f0a7",
   "metadata": {},
   "outputs": [],
   "source": []
  },
  {
   "cell_type": "markdown",
   "id": "f05d89d3-2367-4df4-b8df-f4d1926e47ed",
   "metadata": {},
   "source": [
    "c)\tTake the elements of the set B in turn and decide how many fail the test at each of steps 1, 2, 3, 4, 5"
   ]
  },
  {
   "cell_type": "code",
   "execution_count": null,
   "id": "3764cabc-43e6-40e4-92ab-3c8a0aff7685",
   "metadata": {},
   "outputs": [],
   "source": []
  },
  {
   "cell_type": "markdown",
   "id": "bdcec1c0-3fc2-402e-aa67-9db421db94d3",
   "metadata": {},
   "source": [
    "Question 6 (contributes to the ‘written explanation’ category worth 25% of the marks, you should write 400-500 words summarising your conclusions):\n",
    "\n",
    "Consider the tests we have seen so far in the module\n",
    "\n",
    "\t\ti)\ta Fermat Test calculating am-1 mod m\n",
    "        \n",
    "\t\tii)\ta gcd test on a and m\n",
    "        \n",
    "\t\tiii)\ta Miller Rabin test \n",
    "        \n",
    "\t\tiv) \tTrial division/sieving methods\n",
    "        \n",
    "\t\tv) \tThe AKS primality test\n",
    "        \n",
    "Thinking about factors such as:\n",
    "\n",
    "•\tthe probability that the test produces a clear answer, \n",
    "\n",
    "•\tthe amount of work that it involves \n",
    "\n",
    "summarise which test you would recommend for deciding if a number is prime or not.  \n",
    "\n",
    "Does the size of the target number affect your answer? Does it change for:\n",
    "\n",
    "a)\tNumbers less than 10 000 000\n",
    "\n",
    "b)\tNumbers bigger than 1 000 000 000 000\n",
    "\n",
    "c)\tNumbers bigger than 10^100"
   ]
  },
  {
   "cell_type": "code",
   "execution_count": null,
   "id": "2bd42604-8d5a-4f4b-ba96-803926c68ea8",
   "metadata": {},
   "outputs": [],
   "source": []
  }
 ],
 "metadata": {
  "kernelspec": {
   "display_name": "Python 3 (ipykernel)",
   "language": "python",
   "name": "python3"
  },
  "language_info": {
   "codemirror_mode": {
    "name": "ipython",
    "version": 3
   },
   "file_extension": ".py",
   "mimetype": "text/x-python",
   "name": "python",
   "nbconvert_exporter": "python",
   "pygments_lexer": "ipython3",
   "version": "3.11.4"
  }
 },
 "nbformat": 4,
 "nbformat_minor": 5
}
